{
  "nbformat": 4,
  "nbformat_minor": 0,
  "metadata": {
    "colab": {
      "provenance": [],
      "gpuType": "T4",
      "authorship_tag": "ABX9TyPEx3xmpelanMYtbGz+ZmXD",
      "include_colab_link": true
    },
    "kernelspec": {
      "name": "python3",
      "display_name": "Python 3"
    },
    "language_info": {
      "name": "python"
    },
    "accelerator": "GPU"
  },
  "cells": [
    {
      "cell_type": "markdown",
      "metadata": {
        "id": "view-in-github",
        "colab_type": "text"
      },
      "source": [
        "<a href=\"https://colab.research.google.com/github/anshsingh233/Pytorch_rep/blob/main/intro_to_colab.ipynb\" target=\"_parent\"><img src=\"https://colab.research.google.com/assets/colab-badge.svg\" alt=\"Open In Colab\"/></a>"
      ]
    },
    {
      "cell_type": "code",
      "execution_count": null,
      "metadata": {
        "id": "hIkqWed2iqmz"
      },
      "outputs": [],
      "source": [
        "import torch"
      ]
    },
    {
      "cell_type": "code",
      "execution_count": null,
      "metadata": {
        "outputId": "99472667-e10d-4512-8390-38e21e7a12ed",
        "colab": {
          "base_uri": "https://localhost:8080/"
        },
        "id": "qK83SigBiqm1"
      },
      "outputs": [
        {
          "output_type": "stream",
          "name": "stdout",
          "text": [
            "Package                                  Version\n",
            "---------------------------------------- -------------------\n",
            "absl-py                                  1.4.0\n",
            "absolufy-imports                         0.3.1\n",
            "accelerate                               1.11.0\n",
            "aiofiles                                 24.1.0\n",
            "aiohappyeyeballs                         2.6.1\n",
            "aiohttp                                  3.13.1\n",
            "aiosignal                                1.4.0\n",
            "alabaster                                1.0.0\n",
            "albucore                                 0.0.24\n",
            "albumentations                           2.0.8\n",
            "ale-py                                   0.11.2\n",
            "alembic                                  1.17.0\n",
            "altair                                   5.5.0\n",
            "annotated-doc                            0.0.3\n",
            "annotated-types                          0.7.0\n",
            "antlr4-python3-runtime                   4.9.3\n",
            "anyio                                    4.11.0\n",
            "anywidget                                0.9.18\n",
            "argon2-cffi                              25.1.0\n",
            "argon2-cffi-bindings                     25.1.0\n",
            "array_record                             0.8.1\n",
            "arrow                                    1.4.0\n",
            "arviz                                    0.22.0\n",
            "astropy                                  7.1.1\n",
            "astropy-iers-data                        0.2025.10.20.0.39.8\n",
            "astunparse                               1.6.3\n",
            "atpublic                                 5.1\n",
            "attrs                                    25.4.0\n",
            "audioread                                3.0.1\n",
            "Authlib                                  1.6.5\n",
            "autograd                                 1.8.0\n",
            "babel                                    2.17.0\n",
            "backcall                                 0.2.0\n",
            "beartype                                 0.22.3\n",
            "beautifulsoup4                           4.13.5\n",
            "betterproto                              2.0.0b6\n",
            "bigframes                                2.26.0\n",
            "bigquery-magics                          0.10.3\n",
            "bleach                                   6.2.0\n",
            "blinker                                  1.9.0\n",
            "blis                                     1.3.0\n",
            "blobfile                                 3.1.0\n",
            "blosc2                                   3.10.2\n",
            "bokeh                                    3.7.3\n",
            "Bottleneck                               1.4.2\n",
            "bqplot                                   0.12.45\n",
            "branca                                   0.8.2\n",
            "Brotli                                   1.1.0\n",
            "build                                    1.3.0\n",
            "CacheControl                             0.14.3\n",
            "cachetools                               5.5.2\n",
            "catalogue                                2.0.10\n",
            "certifi                                  2025.10.5\n",
            "cffi                                     2.0.0\n",
            "chardet                                  5.2.0\n",
            "charset-normalizer                       3.4.4\n",
            "chex                                     0.1.90\n",
            "clarabel                                 0.11.1\n",
            "click                                    8.3.0\n",
            "cloudpathlib                             0.23.0\n",
            "cloudpickle                              3.1.1\n",
            "cmake                                    3.31.6\n",
            "cmdstanpy                                1.3.0\n",
            "colorcet                                 3.1.0\n",
            "colorlover                               0.3.0\n",
            "colour                                   0.1.5\n",
            "community                                1.0.0b1\n",
            "confection                               0.1.5\n",
            "cons                                     0.4.7\n",
            "contourpy                                1.3.3\n",
            "cramjam                                  2.11.0\n",
            "cryptography                             43.0.3\n",
            "cuda-python                              12.6.2.post1\n",
            "cudf-cu12                                25.6.0\n",
            "cudf-polars-cu12                         25.6.0\n",
            "cufflinks                                0.17.3\n",
            "cuml-cu12                                25.6.0\n",
            "cupy-cuda12x                             13.3.0\n",
            "curl_cffi                                0.13.0\n",
            "cuvs-cu12                                25.6.1\n",
            "cvxopt                                   1.3.2\n",
            "cvxpy                                    1.6.7\n",
            "cycler                                   0.12.1\n",
            "cyipopt                                  1.5.0\n",
            "cymem                                    2.0.11\n",
            "Cython                                   3.0.12\n",
            "dask                                     2025.5.0\n",
            "dask-cuda                                25.6.0\n",
            "dask-cudf-cu12                           25.6.0\n",
            "dataproc-spark-connect                   0.8.3\n",
            "datasets                                 4.0.0\n",
            "db-dtypes                                1.4.3\n",
            "dbus-python                              1.2.18\n",
            "debugpy                                  1.8.15\n",
            "decorator                                4.4.2\n",
            "defusedxml                               0.7.1\n",
            "diffusers                                0.35.2\n",
            "dill                                     0.3.8\n",
            "distributed                              2025.5.0\n",
            "distributed-ucxx-cu12                    0.44.0\n",
            "distro                                   1.9.0\n",
            "dlib                                     19.24.6\n",
            "dm-tree                                  0.1.9\n",
            "docstring_parser                         0.17.0\n",
            "docutils                                 0.21.2\n",
            "dopamine_rl                              4.1.2\n",
            "duckdb                                   1.3.2\n",
            "earthengine-api                          1.5.24\n",
            "easydict                                 1.13\n",
            "editdistance                             0.8.1\n",
            "eerepr                                   0.1.2\n",
            "einops                                   0.8.1\n",
            "en_core_web_sm                           3.8.0\n",
            "entrypoints                              0.4\n",
            "et_xmlfile                               2.0.0\n",
            "etils                                    1.13.0\n",
            "etuples                                  0.3.10\n",
            "Farama-Notifications                     0.0.4\n",
            "fastai                                   2.8.4\n",
            "fastapi                                  0.120.0\n",
            "fastcore                                 1.8.13\n",
            "fastdownload                             0.0.7\n",
            "fastjsonschema                           2.21.2\n",
            "fastprogress                             1.0.3\n",
            "fastrlock                                0.8.3\n",
            "fasttransform                            0.0.2\n",
            "ffmpy                                    0.6.4\n",
            "filelock                                 3.20.0\n",
            "firebase-admin                           6.9.0\n",
            "Flask                                    3.1.2\n",
            "flatbuffers                              25.9.23\n",
            "flax                                     0.10.7\n",
            "folium                                   0.20.0\n",
            "fonttools                                4.60.1\n",
            "fqdn                                     1.5.1\n",
            "frozendict                               2.4.6\n",
            "frozenlist                               1.8.0\n",
            "fsspec                                   2025.3.0\n",
            "future                                   1.0.0\n",
            "gast                                     0.6.0\n",
            "gcsfs                                    2025.3.0\n",
            "GDAL                                     3.8.4\n",
            "gdown                                    5.2.0\n",
            "geemap                                   0.35.3\n",
            "geocoder                                 1.38.1\n",
            "geographiclib                            2.1\n",
            "geopandas                                1.1.1\n",
            "geopy                                    2.4.1\n",
            "gin-config                               0.5.0\n",
            "gitdb                                    4.0.12\n",
            "GitPython                                3.1.45\n",
            "glob2                                    0.7\n",
            "google                                   2.0.3\n",
            "google-adk                               1.17.0\n",
            "google-ai-generativelanguage             0.6.15\n",
            "google-api-core                          2.27.0\n",
            "google-api-python-client                 2.185.0\n",
            "google-auth                              2.38.0\n",
            "google-auth-httplib2                     0.2.0\n",
            "google-auth-oauthlib                     1.2.2\n",
            "google-cloud-aiplatform                  1.122.0\n",
            "google-cloud-appengine-logging           1.7.0\n",
            "google-cloud-audit-log                   0.4.0\n",
            "google-cloud-bigquery                    3.38.0\n",
            "google-cloud-bigquery-connection         1.19.0\n",
            "google-cloud-bigquery-storage            2.33.1\n",
            "google-cloud-bigtable                    2.34.0\n",
            "google-cloud-core                        2.4.3\n",
            "google-cloud-dataproc                    5.23.0\n",
            "google-cloud-datastore                   2.21.0\n",
            "google-cloud-discoveryengine             0.13.12\n",
            "google-cloud-firestore                   2.21.0\n",
            "google-cloud-functions                   1.21.0\n",
            "google-cloud-language                    2.18.0\n",
            "google-cloud-logging                     3.12.1\n",
            "google-cloud-monitoring                  2.28.0\n",
            "google-cloud-resource-manager            1.15.0\n",
            "google-cloud-secret-manager              2.25.0\n",
            "google-cloud-spanner                     3.59.0\n",
            "google-cloud-speech                      2.34.0\n",
            "google-cloud-storage                     2.19.0\n",
            "google-cloud-trace                       1.17.0\n",
            "google-cloud-translate                   3.22.0\n",
            "google-colab                             1.0.0\n",
            "google-crc32c                            1.7.1\n",
            "google-genai                             1.46.0\n",
            "google-generativeai                      0.8.5\n",
            "google-pasta                             0.2.0\n",
            "google-resumable-media                   2.7.2\n",
            "googleapis-common-protos                 1.71.0\n",
            "googledrivedownloader                    1.1.0\n",
            "gradio                                   5.49.1\n",
            "gradio_client                            1.13.3\n",
            "graphviz                                 0.21\n",
            "greenlet                                 3.2.4\n",
            "groovy                                   0.1.2\n",
            "grpc-google-iam-v1                       0.14.3\n",
            "grpc-interceptor                         0.15.4\n",
            "grpcio                                   1.76.0\n",
            "grpcio-status                            1.71.2\n",
            "grpclib                                  0.4.8\n",
            "gspread                                  6.2.1\n",
            "gspread-dataframe                        4.0.0\n",
            "gym                                      0.25.2\n",
            "gym-notices                              0.1.0\n",
            "gymnasium                                1.2.1\n",
            "h11                                      0.16.0\n",
            "h2                                       4.3.0\n",
            "h5netcdf                                 1.7.3\n",
            "h5py                                     3.15.1\n",
            "hdbscan                                  0.8.40\n",
            "hf_transfer                              0.1.9\n",
            "hf-xet                                   1.2.0\n",
            "highspy                                  1.11.0\n",
            "holidays                                 0.83\n",
            "holoviews                                1.21.0\n",
            "hpack                                    4.1.0\n",
            "html5lib                                 1.1\n",
            "httpcore                                 1.0.9\n",
            "httpimport                               1.4.1\n",
            "httplib2                                 0.31.0\n",
            "httpx                                    0.28.1\n",
            "httpx-sse                                0.4.3\n",
            "huggingface-hub                          0.36.0\n",
            "humanize                                 4.14.0\n",
            "hyperframe                               6.1.0\n",
            "hyperopt                                 0.2.7\n",
            "ibis-framework                           9.5.0\n",
            "idna                                     3.11\n",
            "imageio                                  2.37.0\n",
            "imageio-ffmpeg                           0.6.0\n",
            "imagesize                                1.4.1\n",
            "imbalanced-learn                         0.14.0\n",
            "immutabledict                            4.2.2\n",
            "importlib_metadata                       8.7.0\n",
            "importlib_resources                      6.5.2\n",
            "imutils                                  0.5.4\n",
            "inflect                                  7.5.0\n",
            "iniconfig                                2.3.0\n",
            "intel-cmplr-lib-ur                       2025.3.0\n",
            "intel-openmp                             2025.3.0\n",
            "ipyevents                                2.0.4\n",
            "ipyfilechooser                           0.6.0\n",
            "ipykernel                                6.17.1\n",
            "ipyleaflet                               0.20.0\n",
            "ipyparallel                              8.8.0\n",
            "ipython                                  7.34.0\n",
            "ipython-genutils                         0.2.0\n",
            "ipython-sql                              0.5.0\n",
            "ipytree                                  0.2.2\n",
            "ipywidgets                               7.7.1\n",
            "isoduration                              20.11.0\n",
            "itsdangerous                             2.2.0\n",
            "jaraco.classes                           3.4.0\n",
            "jaraco.context                           6.0.1\n",
            "jaraco.functools                         4.3.0\n",
            "jax                                      0.7.2\n",
            "jax-cuda12-pjrt                          0.7.2\n",
            "jax-cuda12-plugin                        0.7.2\n",
            "jaxlib                                   0.7.2\n",
            "jeepney                                  0.9.0\n",
            "jieba                                    0.42.1\n",
            "Jinja2                                   3.1.6\n",
            "jiter                                    0.11.1\n",
            "joblib                                   1.5.2\n",
            "jsonpatch                                1.33\n",
            "jsonpickle                               4.1.1\n",
            "jsonpointer                              3.0.0\n",
            "jsonschema                               4.25.1\n",
            "jsonschema-specifications                2025.9.1\n",
            "jupyter_client                           7.4.9\n",
            "jupyter-console                          6.6.3\n",
            "jupyter_core                             5.9.1\n",
            "jupyter-events                           0.12.0\n",
            "jupyter_kernel_gateway                   2.5.2\n",
            "jupyter-leaflet                          0.20.0\n",
            "jupyter_server                           2.14.0\n",
            "jupyter_server_terminals                 0.5.3\n",
            "jupyterlab_pygments                      0.3.0\n",
            "jupyterlab_widgets                       3.0.15\n",
            "jupytext                                 1.17.3\n",
            "kaggle                                   1.7.4.5\n",
            "kagglehub                                0.3.13\n",
            "keras                                    3.10.0\n",
            "keras-hub                                0.21.1\n",
            "keras-nlp                                0.21.1\n",
            "keyring                                  25.6.0\n",
            "keyrings.google-artifactregistry-auth    1.1.2\n",
            "kiwisolver                               1.4.9\n",
            "langchain                                0.3.27\n",
            "langchain-core                           0.3.79\n",
            "langchain-text-splitters                 0.3.11\n",
            "langcodes                                3.5.0\n",
            "langsmith                                0.4.38\n",
            "language_data                            1.3.0\n",
            "lark                                     1.3.0\n",
            "launchpadlib                             1.10.16\n",
            "lazr.restfulclient                       0.14.4\n",
            "lazr.uri                                 1.0.6\n",
            "lazy_loader                              0.4\n",
            "libclang                                 18.1.1\n",
            "libcudf-cu12                             25.6.0\n",
            "libcugraph-cu12                          25.6.0\n",
            "libcuml-cu12                             25.6.0\n",
            "libcuvs-cu12                             25.6.1\n",
            "libkvikio-cu12                           25.6.0\n",
            "libpysal                                 4.13.0\n",
            "libraft-cu12                             25.6.0\n",
            "librmm-cu12                              25.6.0\n",
            "librosa                                  0.11.0\n",
            "libucx-cu12                              1.18.1\n",
            "libucxx-cu12                             0.44.0\n",
            "lightgbm                                 4.6.0\n",
            "linkify-it-py                            2.0.3\n",
            "llvmlite                                 0.43.0\n",
            "locket                                   1.0.0\n",
            "logical-unification                      0.4.7\n",
            "lxml                                     5.4.0\n",
            "Mako                                     1.3.10\n",
            "marisa-trie                              1.3.1\n",
            "Markdown                                 3.9\n",
            "markdown-it-py                           4.0.0\n",
            "MarkupSafe                               3.0.3\n",
            "matplotlib                               3.10.0\n",
            "matplotlib-inline                        0.2.1\n",
            "matplotlib-venn                          1.1.2\n",
            "mcp                                      1.19.0\n",
            "mdit-py-plugins                          0.5.0\n",
            "mdurl                                    0.1.2\n",
            "miniKanren                               1.0.5\n",
            "missingno                                0.5.2\n",
            "mistune                                  3.1.4\n",
            "mizani                                   0.13.5\n",
            "mkl                                      2025.2.0\n",
            "ml_dtypes                                0.5.3\n",
            "mlxtend                                  0.23.4\n",
            "more-itertools                           10.8.0\n",
            "moviepy                                  1.0.3\n",
            "mpmath                                   1.3.0\n",
            "msgpack                                  1.1.2\n",
            "multidict                                6.7.0\n",
            "multipledispatch                         1.0.0\n",
            "multiprocess                             0.70.16\n",
            "multitasking                             0.0.12\n",
            "murmurhash                               1.0.13\n",
            "music21                                  9.3.0\n",
            "namex                                    0.1.0\n",
            "narwhals                                 2.9.0\n",
            "natsort                                  8.4.0\n",
            "nbclassic                                1.3.3\n",
            "nbclient                                 0.10.2\n",
            "nbconvert                                7.16.6\n",
            "nbformat                                 5.10.4\n",
            "ndindex                                  1.10.0\n",
            "nest-asyncio                             1.6.0\n",
            "networkx                                 3.5\n",
            "nibabel                                  5.3.2\n",
            "nltk                                     3.9.1\n",
            "notebook                                 6.5.7\n",
            "notebook_shim                            0.2.4\n",
            "numba                                    0.60.0\n",
            "numba-cuda                               0.11.0\n",
            "numexpr                                  2.14.1\n",
            "numpy                                    2.0.2\n",
            "nvidia-cublas-cu12                       12.6.4.1\n",
            "nvidia-cuda-cupti-cu12                   12.6.80\n",
            "nvidia-cuda-nvcc-cu12                    12.5.82\n",
            "nvidia-cuda-nvrtc-cu12                   12.6.77\n",
            "nvidia-cuda-runtime-cu12                 12.6.77\n",
            "nvidia-cudnn-cu12                        9.10.2.21\n",
            "nvidia-cufft-cu12                        11.3.0.4\n",
            "nvidia-cufile-cu12                       1.11.1.6\n",
            "nvidia-curand-cu12                       10.3.7.77\n",
            "nvidia-cusolver-cu12                     11.7.1.2\n",
            "nvidia-cusparse-cu12                     12.5.4.2\n",
            "nvidia-cusparselt-cu12                   0.7.1\n",
            "nvidia-ml-py                             12.575.51\n",
            "nvidia-nccl-cu12                         2.27.3\n",
            "nvidia-nvjitlink-cu12                    12.6.85\n",
            "nvidia-nvshmem-cu12                      3.4.5\n",
            "nvidia-nvtx-cu12                         12.6.77\n",
            "nvtx                                     0.2.13\n",
            "nx-cugraph-cu12                          25.6.0\n",
            "oauth2client                             4.1.3\n",
            "oauthlib                                 3.3.1\n",
            "omegaconf                                2.3.0\n",
            "openai                                   1.109.1\n",
            "opencv-contrib-python                    4.12.0.88\n",
            "opencv-python                            4.12.0.88\n",
            "opencv-python-headless                   4.12.0.88\n",
            "openpyxl                                 3.1.5\n",
            "opentelemetry-api                        1.37.0\n",
            "opentelemetry-exporter-gcp-logging       1.10.0a0\n",
            "opentelemetry-exporter-gcp-monitoring    1.10.0a0\n",
            "opentelemetry-exporter-gcp-trace         1.10.0\n",
            "opentelemetry-exporter-otlp-proto-common 1.37.0\n",
            "opentelemetry-exporter-otlp-proto-http   1.37.0\n",
            "opentelemetry-proto                      1.37.0\n",
            "opentelemetry-resourcedetector-gcp       1.10.0a0\n",
            "opentelemetry-sdk                        1.37.0\n",
            "opentelemetry-semantic-conventions       0.58b0\n",
            "opt_einsum                               3.4.0\n",
            "optax                                    0.2.6\n",
            "optree                                   0.17.0\n",
            "orbax-checkpoint                         0.11.26\n",
            "orjson                                   3.11.4\n",
            "osqp                                     1.0.5\n",
            "overrides                                7.7.0\n",
            "packaging                                25.0\n",
            "pandas                                   2.2.2\n",
            "pandas-datareader                        0.10.0\n",
            "pandas-gbq                               0.29.2\n",
            "pandas-stubs                             2.2.2.240909\n",
            "pandocfilters                            1.5.1\n",
            "panel                                    1.8.2\n",
            "param                                    2.2.1\n",
            "parso                                    0.8.5\n",
            "parsy                                    2.2\n",
            "partd                                    1.4.2\n",
            "patsy                                    1.0.2\n",
            "peewee                                   3.18.2\n",
            "peft                                     0.17.1\n",
            "pexpect                                  4.9.0\n",
            "pickleshare                              0.7.5\n",
            "pillow                                   11.3.0\n",
            "pip                                      24.1.2\n",
            "platformdirs                             4.5.0\n",
            "plotly                                   5.24.1\n",
            "plotnine                                 0.14.5\n",
            "pluggy                                   1.6.0\n",
            "plum-dispatch                            2.5.8\n",
            "ply                                      3.11\n",
            "polars                                   1.25.2\n",
            "pooch                                    1.8.2\n",
            "portpicker                               1.5.2\n",
            "preshed                                  3.0.10\n",
            "prettytable                              3.16.0\n",
            "proglog                                  0.1.12\n",
            "progressbar2                             4.5.0\n",
            "prometheus_client                        0.23.1\n",
            "promise                                  2.3\n",
            "prompt_toolkit                           3.0.52\n",
            "propcache                                0.4.1\n",
            "prophet                                  1.1.7\n",
            "proto-plus                               1.26.1\n",
            "protobuf                                 5.29.5\n",
            "psutil                                   5.9.5\n",
            "psycopg2                                 2.9.11\n",
            "psygnal                                  0.15.0\n",
            "ptyprocess                               0.7.0\n",
            "py-cpuinfo                               9.0.0\n",
            "py4j                                     0.10.9.7\n",
            "pyarrow                                  18.1.0\n",
            "pyasn1                                   0.6.1\n",
            "pyasn1_modules                           0.4.2\n",
            "pycairo                                  1.28.0\n",
            "pycocotools                              2.0.10\n",
            "pycparser                                2.23\n",
            "pycryptodomex                            3.23.0\n",
            "pydantic                                 2.11.10\n",
            "pydantic_core                            2.33.2\n",
            "pydantic-settings                        2.11.0\n",
            "pydata-google-auth                       1.9.1\n",
            "pydot                                    3.0.4\n",
            "pydotplus                                2.0.2\n",
            "PyDrive2                                 1.21.3\n",
            "pydub                                    0.25.1\n",
            "pyerfa                                   2.0.1.5\n",
            "pygame                                   2.6.1\n",
            "pygit2                                   1.19.0\n",
            "Pygments                                 2.19.2\n",
            "PyGObject                                3.42.0\n",
            "PyJWT                                    2.10.1\n",
            "pylibcudf-cu12                           25.6.0\n",
            "pylibcugraph-cu12                        25.6.0\n",
            "pylibraft-cu12                           25.6.0\n",
            "pymc                                     5.26.1\n",
            "pynndescent                              0.5.13\n",
            "pynvjitlink-cu12                         0.7.0\n",
            "pynvml                                   12.0.0\n",
            "pyogrio                                  0.11.1\n",
            "pyomo                                    6.9.5\n",
            "PyOpenGL                                 3.1.10\n",
            "pyOpenSSL                                24.2.1\n",
            "pyparsing                                3.2.5\n",
            "pyperclip                                1.11.0\n",
            "pyproj                                   3.7.2\n",
            "pyproject_hooks                          1.2.0\n",
            "pyshp                                    3.0.2.post1\n",
            "PySocks                                  1.7.1\n",
            "pyspark                                  3.5.1\n",
            "pytensor                                 2.35.1\n",
            "pytest                                   8.4.2\n",
            "python-apt                               0.0.0\n",
            "python-box                               7.3.2\n",
            "python-dateutil                          2.9.0.post0\n",
            "python-dotenv                            1.1.1\n",
            "python-json-logger                       4.0.0\n",
            "python-louvain                           0.16\n",
            "python-multipart                         0.0.20\n",
            "python-slugify                           8.0.4\n",
            "python-snappy                            0.7.3\n",
            "python-utils                             3.9.1\n",
            "pytz                                     2025.2\n",
            "pyviz_comms                              3.0.6\n",
            "PyWavelets                               1.9.0\n",
            "PyYAML                                   6.0.3\n",
            "pyzmq                                    26.2.1\n",
            "raft-dask-cu12                           25.6.0\n",
            "rapids-dask-dependency                   25.6.0\n",
            "rapids-logger                            0.1.19\n",
            "ratelim                                  0.1.6\n",
            "referencing                              0.37.0\n",
            "regex                                    2024.11.6\n",
            "requests                                 2.32.4\n",
            "requests-oauthlib                        2.0.0\n",
            "requests-toolbelt                        1.0.0\n",
            "requirements-parser                      0.9.0\n",
            "rfc3339-validator                        0.1.4\n",
            "rfc3986-validator                        0.1.1\n",
            "rfc3987-syntax                           1.1.0\n",
            "rich                                     13.9.4\n",
            "rmm-cu12                                 25.6.0\n",
            "roman-numerals-py                        3.1.0\n",
            "rpds-py                                  0.28.0\n",
            "rpy2                                     3.5.17\n",
            "rsa                                      4.9.1\n",
            "ruff                                     0.14.2\n",
            "safehttpx                                0.1.7\n",
            "safetensors                              0.6.2\n",
            "scikit-image                             0.25.2\n",
            "scikit-learn                             1.6.1\n",
            "scipy                                    1.16.2\n",
            "scooby                                   0.10.2\n",
            "scs                                      3.2.9\n",
            "seaborn                                  0.13.2\n",
            "SecretStorage                            3.4.0\n",
            "semantic-version                         2.10.0\n",
            "Send2Trash                               1.8.3\n",
            "sentence-transformers                    5.1.2\n",
            "sentencepiece                            0.2.1\n",
            "sentry-sdk                               2.42.1\n",
            "setuptools                               75.2.0\n",
            "shap                                     0.49.1\n",
            "shapely                                  2.1.2\n",
            "shellingham                              1.5.4\n",
            "simple-parsing                           0.1.7\n",
            "simplejson                               3.20.2\n",
            "simsimd                                  6.5.3\n",
            "six                                      1.17.0\n",
            "sklearn-pandas                           2.2.0\n",
            "slicer                                   0.0.8\n",
            "smart_open                               7.4.1\n",
            "smmap                                    5.0.2\n",
            "sniffio                                  1.3.1\n",
            "snowballstemmer                          3.0.1\n",
            "sortedcontainers                         2.4.0\n",
            "soundfile                                0.13.1\n",
            "soupsieve                                2.8\n",
            "soxr                                     1.0.0\n",
            "spacy                                    3.8.7\n",
            "spacy-legacy                             3.0.12\n",
            "spacy-loggers                            1.0.5\n",
            "spanner-graph-notebook                   1.1.8\n",
            "Sphinx                                   8.2.3\n",
            "sphinxcontrib-applehelp                  2.0.0\n",
            "sphinxcontrib-devhelp                    2.0.0\n",
            "sphinxcontrib-htmlhelp                   2.1.0\n",
            "sphinxcontrib-jsmath                     1.0.1\n",
            "sphinxcontrib-qthelp                     2.0.0\n",
            "sphinxcontrib-serializinghtml            2.0.0\n",
            "SQLAlchemy                               2.0.44\n",
            "sqlalchemy-spanner                       1.17.1\n",
            "sqlglot                                  25.20.2\n",
            "sqlparse                                 0.5.3\n",
            "srsly                                    2.5.1\n",
            "sse-starlette                            3.0.2\n",
            "stanio                                   0.5.1\n",
            "starlette                                0.48.0\n",
            "statsmodels                              0.14.5\n",
            "stringzilla                              4.2.1\n",
            "stumpy                                   1.13.0\n",
            "sympy                                    1.13.3\n",
            "tables                                   3.10.2\n",
            "tabulate                                 0.9.0\n",
            "tbb                                      2022.3.0\n",
            "tblib                                    3.2.0\n",
            "tcmlib                                   1.4.1\n",
            "tenacity                                 8.5.0\n",
            "tensorboard                              2.19.0\n",
            "tensorboard-data-server                  0.7.2\n",
            "tensorflow                               2.19.0\n",
            "tensorflow-datasets                      4.9.9\n",
            "tensorflow_decision_forests              1.12.0\n",
            "tensorflow-hub                           0.16.1\n",
            "tensorflow-metadata                      1.17.2\n",
            "tensorflow-probability                   0.25.0\n",
            "tensorflow-text                          2.19.0\n",
            "tensorstore                              0.1.78\n",
            "termcolor                                3.1.0\n",
            "terminado                                0.18.1\n",
            "text-unidecode                           1.3\n",
            "textblob                                 0.19.0\n",
            "tf_keras                                 2.19.0\n",
            "tf-slim                                  1.1.0\n",
            "thinc                                    8.3.6\n",
            "threadpoolctl                            3.6.0\n",
            "tifffile                                 2025.10.16\n",
            "tiktoken                                 0.12.0\n",
            "timm                                     1.0.20\n",
            "tinycss2                                 1.4.0\n",
            "tokenizers                               0.22.1\n",
            "toml                                     0.10.2\n",
            "tomlkit                                  0.13.3\n",
            "toolz                                    0.12.1\n",
            "torch                                    2.8.0+cu126\n",
            "torchao                                  0.10.0\n",
            "torchaudio                               2.8.0+cu126\n",
            "torchdata                                0.11.0\n",
            "torchsummary                             1.5.1\n",
            "torchtune                                0.6.1\n",
            "torchvision                              0.23.0+cu126\n",
            "tornado                                  6.5.1\n",
            "tqdm                                     4.67.1\n",
            "traitlets                                5.7.1\n",
            "traittypes                               0.2.3\n",
            "transformers                             4.57.1\n",
            "treelite                                 4.4.1\n",
            "treescope                                0.1.10\n",
            "triton                                   3.4.0\n",
            "tsfresh                                  0.21.1\n",
            "tweepy                                   4.16.0\n",
            "typeguard                                4.4.4\n",
            "typer                                    0.20.0\n",
            "types-pytz                               2025.2.0.20250809\n",
            "types-setuptools                         80.9.0.20250822\n",
            "typing_extensions                        4.15.0\n",
            "typing-inspection                        0.4.2\n",
            "tzdata                                   2025.2\n",
            "tzlocal                                  5.3.1\n",
            "uc-micro-py                              1.0.3\n",
            "ucx-py-cu12                              0.44.0\n",
            "ucxx-cu12                                0.44.0\n",
            "umap-learn                               0.5.9.post2\n",
            "umf                                      1.0.2\n",
            "uri-template                             1.3.0\n",
            "uritemplate                              4.2.0\n",
            "urllib3                                  2.5.0\n",
            "uvicorn                                  0.38.0\n",
            "vega-datasets                            0.9.0\n",
            "wadllib                                  1.3.6\n",
            "wandb                                    0.22.2\n",
            "wasabi                                   1.1.3\n",
            "watchdog                                 6.0.0\n",
            "wcwidth                                  0.2.14\n",
            "weasel                                   0.4.1\n",
            "webcolors                                24.11.1\n",
            "webencodings                             0.5.1\n",
            "websocket-client                         1.9.0\n",
            "websockets                               15.0.1\n",
            "Werkzeug                                 3.1.3\n",
            "wheel                                    0.45.1\n",
            "widgetsnbextension                       3.6.10\n",
            "wordcloud                                1.9.4\n",
            "wrapt                                    2.0.0\n",
            "wurlitzer                                3.1.1\n",
            "xarray                                   2025.10.1\n",
            "xarray-einstats                          0.9.1\n",
            "xgboost                                  3.1.1\n",
            "xlrd                                     2.0.2\n",
            "xxhash                                   3.6.0\n",
            "xyzservices                              2025.4.0\n",
            "yarl                                     1.22.0\n",
            "ydf                                      0.13.0\n",
            "yellowbrick                              1.5\n",
            "yfinance                                 0.2.66\n",
            "zict                                     3.0.0\n",
            "zipp                                     3.23.0\n",
            "zstandard                                0.25.0\n"
          ]
        }
      ],
      "source": [
        "!pip list"
      ]
    },
    {
      "cell_type": "code",
      "execution_count": null,
      "metadata": {
        "id": "7hgcze44iqm2"
      },
      "outputs": [],
      "source": [
        "import numpy as np\n"
      ]
    },
    {
      "cell_type": "code",
      "execution_count": null,
      "metadata": {
        "colab": {
          "base_uri": "https://localhost:8080/"
        },
        "id": "jJkUicx6B70j",
        "outputId": "01ee8bf5-7a8c-42c9-84ff-8ef324ddbb17"
      },
      "outputs": [
        {
          "output_type": "stream",
          "name": "stdout",
          "text": [
            "[[1, 2, 3], [1, 2, 3]]\n"
          ]
        }
      ],
      "source": [
        "my_list=[[1,2,3],[1,2,3]]\n",
        "print(my_list)"
      ]
    },
    {
      "cell_type": "code",
      "execution_count": null,
      "metadata": {
        "colab": {
          "base_uri": "https://localhost:8080/"
        },
        "id": "9P0zPhdoElHw",
        "outputId": "f875e8c2-3a14-433d-f21f-4345ac263a96"
      },
      "outputs": [
        {
          "output_type": "stream",
          "name": "stdout",
          "text": [
            "[[0.57127882 0.55336875 0.01266095 0.76719053]\n",
            " [0.71643387 0.00363694 0.60911646 0.07800901]\n",
            " [0.86303514 0.6456399  0.54279241 0.82100631]]\n"
          ]
        }
      ],
      "source": [
        "np1=np.random.rand(3,4)\n",
        "print(np1)"
      ]
    },
    {
      "cell_type": "code",
      "execution_count": null,
      "metadata": {
        "colab": {
          "base_uri": "https://localhost:8080/"
        },
        "id": "B5Y_y0PNEwO1",
        "outputId": "a66a53cf-6c27-4680-cd77-2ef69b2ec5aa"
      },
      "outputs": [
        {
          "output_type": "execute_result",
          "data": {
            "text/plain": [
              "dtype('float64')"
            ]
          },
          "metadata": {},
          "execution_count": 6
        }
      ],
      "source": [
        "np1.dtype"
      ]
    },
    {
      "cell_type": "markdown",
      "metadata": {
        "id": "BNITw3ceHKUT"
      },
      "source": [
        "TENSORS\n",
        "1. A torch.Tensor is a multi-dimensional matrix containing elements of a single data type.\n",
        "2. similar to numpy arrays, but work better on GPUs vs regular CPUs\n",
        "3. default data type of float32\n",
        "4. more suitable to deep learning than numpy array."
      ]
    },
    {
      "cell_type": "code",
      "execution_count": null,
      "metadata": {
        "colab": {
          "base_uri": "https://localhost:8080/"
        },
        "id": "r7_C_2UgE9eC",
        "outputId": "20b66619-c136-4bce-b59d-aeaf72f2733f"
      },
      "outputs": [
        {
          "output_type": "execute_result",
          "data": {
            "text/plain": [
              "tensor([[ 0.7296, -0.0533,  1.1640, -0.0115],\n",
              "        [-0.6119, -0.0016,  0.0226, -0.3924]])"
            ]
          },
          "metadata": {},
          "execution_count": 7
        }
      ],
      "source": [
        "tensor_2d=torch.randn(2,4)\n",
        "tensor_2d\n",
        "# tensor_2d.dtype"
      ]
    },
    {
      "cell_type": "code",
      "execution_count": null,
      "metadata": {
        "colab": {
          "base_uri": "https://localhost:8080/"
        },
        "id": "3-LpXBU2FbQ7",
        "outputId": "b0f7c5a0-da7e-4b44-d493-4d7773fdea41"
      },
      "outputs": [
        {
          "output_type": "execute_result",
          "data": {
            "text/plain": [
              "tensor([[[-0.2940,  0.5755,  0.5954, -1.5103],\n",
              "         [ 0.8350, -0.1275, -0.8607, -3.2318],\n",
              "         [ 0.9693, -0.2991,  0.8006, -0.7497]],\n",
              "\n",
              "        [[-2.0692, -0.4204,  0.6323,  0.3897],\n",
              "         [ 0.5585, -0.2036,  1.0496, -1.5093],\n",
              "         [ 1.2636,  0.2549, -0.2806, -0.2982]]])"
            ]
          },
          "metadata": {},
          "execution_count": 8
        }
      ],
      "source": [
        "tensor_3d=torch.randn(2,3,4)\n",
        "tensor_3d"
      ]
    },
    {
      "cell_type": "code",
      "execution_count": null,
      "metadata": {
        "colab": {
          "base_uri": "https://localhost:8080/"
        },
        "id": "X90khrwXFka-",
        "outputId": "7823d393-8852-4457-d722-a87e2892bf2f"
      },
      "outputs": [
        {
          "output_type": "execute_result",
          "data": {
            "text/plain": [
              "tensor([[0.5713, 0.5534, 0.0127, 0.7672],\n",
              "        [0.7164, 0.0036, 0.6091, 0.0780],\n",
              "        [0.8630, 0.6456, 0.5428, 0.8210]], dtype=torch.float64)"
            ]
          },
          "metadata": {},
          "execution_count": 9
        }
      ],
      "source": [
        "my_tensor=torch.tensor(np1)\n",
        "my_tensor"
      ]
    },
    {
      "cell_type": "markdown",
      "source": [
        "Tensor_ops\n"
      ],
      "metadata": {
        "id": "8ps_X75KcXCJ"
      }
    },
    {
      "cell_type": "code",
      "source": [
        "import torch"
      ],
      "metadata": {
        "id": "Njf4UlS8ct3V"
      },
      "execution_count": null,
      "outputs": []
    },
    {
      "cell_type": "code",
      "execution_count": null,
      "metadata": {
        "id": "Ue9CuKmoORv2",
        "colab": {
          "base_uri": "https://localhost:8080/"
        },
        "outputId": "eae6ee90-ed6e-4ff0-9b07-d3b048a276ca"
      },
      "outputs": [
        {
          "output_type": "execute_result",
          "data": {
            "text/plain": [
              "tensor([0, 1, 2, 3, 4, 5, 6, 7, 8, 9])"
            ]
          },
          "metadata": {},
          "execution_count": 11
        }
      ],
      "source": [
        "my_torch=torch.arange(10)\n",
        "my_torch"
      ]
    },
    {
      "cell_type": "code",
      "source": [
        "my_torch=my_torch.reshape(2,5)\n",
        "my_torch"
      ],
      "metadata": {
        "colab": {
          "base_uri": "https://localhost:8080/"
        },
        "id": "aQaIW4Xoci4K",
        "outputId": "8dfe78fd-8f3e-406c-f068-7a080cff9ca6"
      },
      "execution_count": null,
      "outputs": [
        {
          "output_type": "execute_result",
          "data": {
            "text/plain": [
              "tensor([[0, 1, 2, 3, 4],\n",
              "        [5, 6, 7, 8, 9]])"
            ]
          },
          "metadata": {},
          "execution_count": 12
        }
      ]
    },
    {
      "cell_type": "code",
      "source": [
        "# Reshape if we don't know the number of items using -1\n",
        "my_torch2=torch.arange(10)\n",
        "my_torch2"
      ],
      "metadata": {
        "colab": {
          "base_uri": "https://localhost:8080/"
        },
        "id": "_vxSQN7Tc-fT",
        "outputId": "ec714692-0742-44cd-a265-ea7d0d8acdfd"
      },
      "execution_count": null,
      "outputs": [
        {
          "output_type": "execute_result",
          "data": {
            "text/plain": [
              "tensor([0, 1, 2, 3, 4, 5, 6, 7, 8, 9])"
            ]
          },
          "metadata": {},
          "execution_count": 13
        }
      ]
    },
    {
      "cell_type": "code",
      "source": [
        "my_torch2=my_torch2.reshape(-1,5)\n",
        "my_torch2"
      ],
      "metadata": {
        "colab": {
          "base_uri": "https://localhost:8080/"
        },
        "id": "UckFa1zXdsrK",
        "outputId": "9a721dc9-361e-47d7-ff49-3d9090ddf1c7"
      },
      "execution_count": null,
      "outputs": [
        {
          "output_type": "execute_result",
          "data": {
            "text/plain": [
              "tensor([[0, 1, 2, 3, 4],\n",
              "        [5, 6, 7, 8, 9]])"
            ]
          },
          "metadata": {},
          "execution_count": 14
        }
      ]
    },
    {
      "cell_type": "code",
      "source": [
        "my_torch3=torch.arange(10)\n",
        "my_torch3"
      ],
      "metadata": {
        "colab": {
          "base_uri": "https://localhost:8080/"
        },
        "id": "i1cSX6Hld4Nm",
        "outputId": "fd606247-53de-4b52-a6f1-9fafeba7490e"
      },
      "execution_count": null,
      "outputs": [
        {
          "output_type": "execute_result",
          "data": {
            "text/plain": [
              "tensor([0, 1, 2, 3, 4, 5, 6, 7, 8, 9])"
            ]
          },
          "metadata": {},
          "execution_count": 15
        }
      ]
    },
    {
      "cell_type": "code",
      "source": [
        "my_torch4=my_torch3.view(2,5)\n",
        "my_torch4"
      ],
      "metadata": {
        "colab": {
          "base_uri": "https://localhost:8080/"
        },
        "id": "BKUthjYbeD_x",
        "outputId": "75e26659-c34d-4d14-b86a-0baed4dabc9a"
      },
      "execution_count": null,
      "outputs": [
        {
          "output_type": "execute_result",
          "data": {
            "text/plain": [
              "tensor([[0, 1, 2, 3, 4],\n",
              "        [5, 6, 7, 8, 9]])"
            ]
          },
          "metadata": {},
          "execution_count": 16
        }
      ]
    },
    {
      "cell_type": "code",
      "source": [
        "#with reshape and view, they will update\n",
        "my_torch5=torch.arange(10)\n",
        "my_torch5"
      ],
      "metadata": {
        "colab": {
          "base_uri": "https://localhost:8080/"
        },
        "id": "U0WT2KiPgdrn",
        "outputId": "7d56a955-11f5-433d-891f-4b9bc469a86e"
      },
      "execution_count": null,
      "outputs": [
        {
          "output_type": "execute_result",
          "data": {
            "text/plain": [
              "tensor([0, 1, 2, 3, 4, 5, 6, 7, 8, 9])"
            ]
          },
          "metadata": {},
          "execution_count": 17
        }
      ]
    },
    {
      "cell_type": "code",
      "source": [
        "my_torch6=my_torch5.reshape(5,2)\n",
        "my_torch6"
      ],
      "metadata": {
        "colab": {
          "base_uri": "https://localhost:8080/"
        },
        "id": "0M99WxuzgrfT",
        "outputId": "76786dd4-80ea-4956-a219-055cd429e72f"
      },
      "execution_count": null,
      "outputs": [
        {
          "output_type": "execute_result",
          "data": {
            "text/plain": [
              "tensor([[0, 1],\n",
              "        [2, 3],\n",
              "        [4, 5],\n",
              "        [6, 7],\n",
              "        [8, 9]])"
            ]
          },
          "metadata": {},
          "execution_count": 18
        }
      ]
    },
    {
      "cell_type": "code",
      "source": [
        "my_torch5[5]=41\n",
        "my_torch5"
      ],
      "metadata": {
        "colab": {
          "base_uri": "https://localhost:8080/"
        },
        "id": "zar5upNng36R",
        "outputId": "dc94693c-e9ba-4fff-c460-05f11dd15772"
      },
      "execution_count": null,
      "outputs": [
        {
          "output_type": "execute_result",
          "data": {
            "text/plain": [
              "tensor([ 0,  1,  2,  3,  4, 41,  6,  7,  8,  9])"
            ]
          },
          "metadata": {},
          "execution_count": 19
        }
      ]
    },
    {
      "cell_type": "code",
      "source": [
        "my_torch6"
      ],
      "metadata": {
        "colab": {
          "base_uri": "https://localhost:8080/"
        },
        "id": "j87Apu3whDR0",
        "outputId": "f7ee84b0-88ee-4a39-b36e-bd4dac150d1b"
      },
      "execution_count": null,
      "outputs": [
        {
          "output_type": "execute_result",
          "data": {
            "text/plain": [
              "tensor([[ 0,  1],\n",
              "        [ 2,  3],\n",
              "        [ 4, 41],\n",
              "        [ 6,  7],\n",
              "        [ 8,  9]])"
            ]
          },
          "metadata": {},
          "execution_count": 20
        }
      ]
    },
    {
      "cell_type": "code",
      "source": [
        "#slice\n",
        "my_torch5[5]"
      ],
      "metadata": {
        "colab": {
          "base_uri": "https://localhost:8080/"
        },
        "id": "BOGF7k1ZhM7S",
        "outputId": "d1be37be-5b0d-4357-bfc4-cf4c7cb786ef"
      },
      "execution_count": null,
      "outputs": [
        {
          "output_type": "execute_result",
          "data": {
            "text/plain": [
              "tensor(41)"
            ]
          },
          "metadata": {},
          "execution_count": 21
        }
      ]
    },
    {
      "cell_type": "code",
      "source": [
        "my_torch6[:,1]"
      ],
      "metadata": {
        "colab": {
          "base_uri": "https://localhost:8080/"
        },
        "id": "eL3qkFrnhT4f",
        "outputId": "e6b0ea54-36d9-4927-fe6d-d76ad4bde13c"
      },
      "execution_count": null,
      "outputs": [
        {
          "output_type": "execute_result",
          "data": {
            "text/plain": [
              "tensor([ 1,  3, 41,  7,  9])"
            ]
          },
          "metadata": {},
          "execution_count": 22
        }
      ]
    },
    {
      "cell_type": "code",
      "source": [
        "my_torch6[:,1:]"
      ],
      "metadata": {
        "colab": {
          "base_uri": "https://localhost:8080/"
        },
        "id": "7Na4NKdhhhOT",
        "outputId": "d9c96a40-005e-47a4-bc87-11cd82ecc6f2"
      },
      "execution_count": null,
      "outputs": [
        {
          "output_type": "execute_result",
          "data": {
            "text/plain": [
              "tensor([[ 1],\n",
              "        [ 3],\n",
              "        [41],\n",
              "        [ 7],\n",
              "        [ 9]])"
            ]
          },
          "metadata": {},
          "execution_count": 23
        }
      ]
    },
    {
      "cell_type": "markdown",
      "source": [
        "### Tensor Math\n",
        "add, subtract, multipy, divide,\n",
        "remainder, exponent\n",
        "shorthand and uh, longhand\n",
        "reassignment\n"
      ],
      "metadata": {
        "id": "f55KKxnSaTjY"
      }
    },
    {
      "cell_type": "code",
      "source": [
        "import torch\n",
        "import numpy as np"
      ],
      "metadata": {
        "id": "RP-ce3QnhlsJ"
      },
      "execution_count": null,
      "outputs": []
    },
    {
      "cell_type": "code",
      "source": [
        "tensor_a=torch.tensor([1,2,3,4])\n",
        "tensor_b=torch.tensor([5,6,7,8])"
      ],
      "metadata": {
        "id": "QpXB_UVka4lt"
      },
      "execution_count": null,
      "outputs": []
    },
    {
      "cell_type": "code",
      "source": [
        "tensor_c=tensor_a+tensor_b\n",
        "tensor_c"
      ],
      "metadata": {
        "colab": {
          "base_uri": "https://localhost:8080/"
        },
        "id": "e6pz0HsDfh-k",
        "outputId": "65b48c8d-691c-4e66-d6bb-a39331c7e413"
      },
      "execution_count": null,
      "outputs": [
        {
          "output_type": "execute_result",
          "data": {
            "text/plain": [
              "tensor([ 6,  8, 10, 12])"
            ]
          },
          "metadata": {},
          "execution_count": 26
        }
      ]
    },
    {
      "cell_type": "code",
      "source": [
        "#addition longhand\n",
        "tensor_d=torch.add(tensor_a,tensor_b)\n",
        "tensor_d"
      ],
      "metadata": {
        "colab": {
          "base_uri": "https://localhost:8080/"
        },
        "id": "GIWPW6BBf2Zr",
        "outputId": "11735d87-7cd7-4f8e-a872-73dbbacf0046"
      },
      "execution_count": null,
      "outputs": [
        {
          "output_type": "execute_result",
          "data": {
            "text/plain": [
              "tensor([ 6,  8, 10, 12])"
            ]
          },
          "metadata": {},
          "execution_count": 27
        }
      ]
    },
    {
      "cell_type": "code",
      "source": [
        "tensor_e=tensor_a-tensor_b\n",
        "tensor_e"
      ],
      "metadata": {
        "colab": {
          "base_uri": "https://localhost:8080/"
        },
        "id": "Wuc__Y2VgtSA",
        "outputId": "6cc1b2d7-53b9-427f-c066-5493145156a3"
      },
      "execution_count": null,
      "outputs": [
        {
          "output_type": "execute_result",
          "data": {
            "text/plain": [
              "tensor([-4, -4, -4, -4])"
            ]
          },
          "metadata": {},
          "execution_count": 28
        }
      ]
    },
    {
      "cell_type": "code",
      "source": [
        "tensor_a*tensor_b"
      ],
      "metadata": {
        "id": "8URh6g83hCnS",
        "colab": {
          "base_uri": "https://localhost:8080/"
        },
        "outputId": "d23577e8-06dd-4f46-a683-fc03051d4d62"
      },
      "execution_count": null,
      "outputs": [
        {
          "output_type": "execute_result",
          "data": {
            "text/plain": [
              "tensor([ 5, 12, 21, 32])"
            ]
          },
          "metadata": {},
          "execution_count": 29
        }
      ]
    },
    {
      "cell_type": "code",
      "source": [
        "#mul longhand\n",
        "torch.mul(tensor_a,tensor_b)"
      ],
      "metadata": {
        "colab": {
          "base_uri": "https://localhost:8080/"
        },
        "id": "owF4NyXYHhAv",
        "outputId": "eb38add0-99ea-40f1-d5fb-760b46a3cf17"
      },
      "execution_count": null,
      "outputs": [
        {
          "output_type": "execute_result",
          "data": {
            "text/plain": [
              "tensor([ 5, 12, 21, 32])"
            ]
          },
          "metadata": {},
          "execution_count": 30
        }
      ]
    },
    {
      "cell_type": "code",
      "source": [
        "tensor_b/tensor_a"
      ],
      "metadata": {
        "colab": {
          "base_uri": "https://localhost:8080/"
        },
        "id": "zMaf2IJ1Hriu",
        "outputId": "72ea37e3-5677-4245-ddbb-5ac5ccea35f9"
      },
      "execution_count": null,
      "outputs": [
        {
          "output_type": "execute_result",
          "data": {
            "text/plain": [
              "tensor([5.0000, 3.0000, 2.3333, 2.0000])"
            ]
          },
          "metadata": {},
          "execution_count": 31
        }
      ]
    },
    {
      "cell_type": "code",
      "source": [
        "#div longhand\n",
        "torch.div(tensor_b,tensor_a)"
      ],
      "metadata": {
        "colab": {
          "base_uri": "https://localhost:8080/"
        },
        "id": "Hkd28VxzHxlL",
        "outputId": "7e86d262-c9fa-4864-dffb-9c12223e7a3b"
      },
      "execution_count": null,
      "outputs": [
        {
          "output_type": "execute_result",
          "data": {
            "text/plain": [
              "tensor([5.0000, 3.0000, 2.3333, 2.0000])"
            ]
          },
          "metadata": {},
          "execution_count": 32
        }
      ]
    },
    {
      "cell_type": "code",
      "source": [
        "#remainder\n",
        "tensor_b % tensor_a"
      ],
      "metadata": {
        "colab": {
          "base_uri": "https://localhost:8080/"
        },
        "id": "TVz3zXZcH3r6",
        "outputId": "45b074c0-527a-47c3-8202-8ecb196c8071"
      },
      "execution_count": null,
      "outputs": [
        {
          "output_type": "execute_result",
          "data": {
            "text/plain": [
              "tensor([0, 0, 1, 0])"
            ]
          },
          "metadata": {},
          "execution_count": 33
        }
      ]
    },
    {
      "cell_type": "code",
      "source": [
        "#remainder longhand\n",
        "torch.remainder(tensor_b,tensor_a)"
      ],
      "metadata": {
        "colab": {
          "base_uri": "https://localhost:8080/"
        },
        "id": "3LVf62XrH9rq",
        "outputId": "4da7076d-67b0-4e66-efa0-a4ccec366bbc"
      },
      "execution_count": null,
      "outputs": [
        {
          "output_type": "execute_result",
          "data": {
            "text/plain": [
              "tensor([0, 0, 1, 0])"
            ]
          },
          "metadata": {},
          "execution_count": 34
        }
      ]
    },
    {
      "cell_type": "code",
      "source": [
        "#exponents/power\n",
        "torch.pow(tensor_a,tensor_b)"
      ],
      "metadata": {
        "colab": {
          "base_uri": "https://localhost:8080/"
        },
        "id": "hyhN_0enIJJ7",
        "outputId": "38b0596b-a30e-4b9c-d5ce-6d8e65a5a9ba"
      },
      "execution_count": null,
      "outputs": [
        {
          "output_type": "execute_result",
          "data": {
            "text/plain": [
              "tensor([    1,    64,  2187, 65536])"
            ]
          },
          "metadata": {},
          "execution_count": 35
        }
      ]
    },
    {
      "cell_type": "code",
      "source": [
        "tensor_a.add(tensor_b)"
      ],
      "metadata": {
        "colab": {
          "base_uri": "https://localhost:8080/"
        },
        "id": "41nGIaM0IR2-",
        "outputId": "9277d890-0df4-4fde-a44f-715d84cdced3"
      },
      "execution_count": null,
      "outputs": [
        {
          "output_type": "execute_result",
          "data": {
            "text/plain": [
              "tensor([ 6,  8, 10, 12])"
            ]
          },
          "metadata": {},
          "execution_count": 36
        }
      ]
    },
    {
      "cell_type": "code",
      "source": [
        "tensor_a.add_(tensor_b)"
      ],
      "metadata": {
        "colab": {
          "base_uri": "https://localhost:8080/"
        },
        "id": "pVYfiD_NIc9v",
        "outputId": "b4e34767-fddc-4be2-833e-6b30cdf0b661"
      },
      "execution_count": null,
      "outputs": [
        {
          "output_type": "execute_result",
          "data": {
            "text/plain": [
              "tensor([ 6,  8, 10, 12])"
            ]
          },
          "metadata": {},
          "execution_count": 37
        }
      ]
    },
    {
      "cell_type": "code",
      "source": [
        "tensor_a"
      ],
      "metadata": {
        "colab": {
          "base_uri": "https://localhost:8080/"
        },
        "id": "5VxoZKDrJP2P",
        "outputId": "a308ff93-2e84-4d7d-b7d4-434689272515"
      },
      "execution_count": null,
      "outputs": [
        {
          "output_type": "execute_result",
          "data": {
            "text/plain": [
              "tensor([ 6,  8, 10, 12])"
            ]
          },
          "metadata": {},
          "execution_count": 38
        }
      ]
    },
    {
      "cell_type": "markdown",
      "source": [
        "### Simple neural network using pytorch\n"
      ],
      "metadata": {
        "id": "VmXJMN8lJcKI"
      }
    },
    {
      "cell_type": "code",
      "source": [
        "import torch\n",
        "import torch.nn as nn\n",
        "import torch.nn.functional as F"
      ],
      "metadata": {
        "id": "UGSKDJKXJbci"
      },
      "execution_count": null,
      "outputs": []
    },
    {
      "cell_type": "code",
      "source": [
        "#create a model class that inherits nn.module\n",
        "class Model(nn.Module):\n",
        "  #Input layer(4 features of the flower)-->\n",
        "  #hiden layer1(number of neurons)\n",
        "  #h2(n)-->\n",
        "  #output(3 classes of iris flowers)\n",
        "  def __init__(self, in_features=4,h1=8,h2=9,out_features=3):\n",
        "    super().__init__()#instantiate our nn.Module\n",
        "    self.fc1=nn.Linear(in_features,h1)\n",
        "    self.fc2=nn.Linear(h1,h2)\n",
        "    self.out=nn.Linear(h2,out_features)\n",
        "\n",
        "  def forward(self,x):\n",
        "    x=F.relu(self.fc1(x))\n",
        "    x=F.relu(self.fc2(x))\n",
        "    x=self.out(x)\n",
        "    return x"
      ],
      "metadata": {
        "id": "xQbqzb41JSGK"
      },
      "execution_count": null,
      "outputs": []
    },
    {
      "cell_type": "code",
      "source": [
        "torch.manual_seed(32)#pick a manual seed for randomizaton\n",
        "model=Model()#create an instance of Model class"
      ],
      "metadata": {
        "id": "TjNr1EBhZ50v"
      },
      "execution_count": null,
      "outputs": []
    },
    {
      "cell_type": "code",
      "source": [
        "import matplotlib.pyplot as plt\n",
        "%matplotlib inline\n",
        "import pandas as pd"
      ],
      "metadata": {
        "id": "Kgi3QmowaIFz"
      },
      "execution_count": null,
      "outputs": []
    },
    {
      "cell_type": "code",
      "source": [
        "url='https://gist.githubusercontent.com/netj/8836201/raw/6f9306ad21398ea43cba4f7d537619d0e07d5ae3/iris.csv'\n",
        "df=pd.read_csv(url)\n",
        "df.head()"
      ],
      "metadata": {
        "colab": {
          "base_uri": "https://localhost:8080/",
          "height": 206
        },
        "id": "QkY8nK95bBNw",
        "outputId": "74236036-33bc-47d0-d06a-c820d280d942"
      },
      "execution_count": null,
      "outputs": [
        {
          "output_type": "execute_result",
          "data": {
            "text/plain": [
              "   sepal.length  sepal.width  petal.length  petal.width variety\n",
              "0           5.1          3.5           1.4          0.2  Setosa\n",
              "1           4.9          3.0           1.4          0.2  Setosa\n",
              "2           4.7          3.2           1.3          0.2  Setosa\n",
              "3           4.6          3.1           1.5          0.2  Setosa\n",
              "4           5.0          3.6           1.4          0.2  Setosa"
            ],
            "text/html": [
              "\n",
              "  <div id=\"df-b578a4b1-3072-4804-9324-23d5df30c640\" class=\"colab-df-container\">\n",
              "    <div>\n",
              "<style scoped>\n",
              "    .dataframe tbody tr th:only-of-type {\n",
              "        vertical-align: middle;\n",
              "    }\n",
              "\n",
              "    .dataframe tbody tr th {\n",
              "        vertical-align: top;\n",
              "    }\n",
              "\n",
              "    .dataframe thead th {\n",
              "        text-align: right;\n",
              "    }\n",
              "</style>\n",
              "<table border=\"1\" class=\"dataframe\">\n",
              "  <thead>\n",
              "    <tr style=\"text-align: right;\">\n",
              "      <th></th>\n",
              "      <th>sepal.length</th>\n",
              "      <th>sepal.width</th>\n",
              "      <th>petal.length</th>\n",
              "      <th>petal.width</th>\n",
              "      <th>variety</th>\n",
              "    </tr>\n",
              "  </thead>\n",
              "  <tbody>\n",
              "    <tr>\n",
              "      <th>0</th>\n",
              "      <td>5.1</td>\n",
              "      <td>3.5</td>\n",
              "      <td>1.4</td>\n",
              "      <td>0.2</td>\n",
              "      <td>Setosa</td>\n",
              "    </tr>\n",
              "    <tr>\n",
              "      <th>1</th>\n",
              "      <td>4.9</td>\n",
              "      <td>3.0</td>\n",
              "      <td>1.4</td>\n",
              "      <td>0.2</td>\n",
              "      <td>Setosa</td>\n",
              "    </tr>\n",
              "    <tr>\n",
              "      <th>2</th>\n",
              "      <td>4.7</td>\n",
              "      <td>3.2</td>\n",
              "      <td>1.3</td>\n",
              "      <td>0.2</td>\n",
              "      <td>Setosa</td>\n",
              "    </tr>\n",
              "    <tr>\n",
              "      <th>3</th>\n",
              "      <td>4.6</td>\n",
              "      <td>3.1</td>\n",
              "      <td>1.5</td>\n",
              "      <td>0.2</td>\n",
              "      <td>Setosa</td>\n",
              "    </tr>\n",
              "    <tr>\n",
              "      <th>4</th>\n",
              "      <td>5.0</td>\n",
              "      <td>3.6</td>\n",
              "      <td>1.4</td>\n",
              "      <td>0.2</td>\n",
              "      <td>Setosa</td>\n",
              "    </tr>\n",
              "  </tbody>\n",
              "</table>\n",
              "</div>\n",
              "    <div class=\"colab-df-buttons\">\n",
              "\n",
              "  <div class=\"colab-df-container\">\n",
              "    <button class=\"colab-df-convert\" onclick=\"convertToInteractive('df-b578a4b1-3072-4804-9324-23d5df30c640')\"\n",
              "            title=\"Convert this dataframe to an interactive table.\"\n",
              "            style=\"display:none;\">\n",
              "\n",
              "  <svg xmlns=\"http://www.w3.org/2000/svg\" height=\"24px\" viewBox=\"0 -960 960 960\">\n",
              "    <path d=\"M120-120v-720h720v720H120Zm60-500h600v-160H180v160Zm220 220h160v-160H400v160Zm0 220h160v-160H400v160ZM180-400h160v-160H180v160Zm440 0h160v-160H620v160ZM180-180h160v-160H180v160Zm440 0h160v-160H620v160Z\"/>\n",
              "  </svg>\n",
              "    </button>\n",
              "\n",
              "  <style>\n",
              "    .colab-df-container {\n",
              "      display:flex;\n",
              "      gap: 12px;\n",
              "    }\n",
              "\n",
              "    .colab-df-convert {\n",
              "      background-color: #E8F0FE;\n",
              "      border: none;\n",
              "      border-radius: 50%;\n",
              "      cursor: pointer;\n",
              "      display: none;\n",
              "      fill: #1967D2;\n",
              "      height: 32px;\n",
              "      padding: 0 0 0 0;\n",
              "      width: 32px;\n",
              "    }\n",
              "\n",
              "    .colab-df-convert:hover {\n",
              "      background-color: #E2EBFA;\n",
              "      box-shadow: 0px 1px 2px rgba(60, 64, 67, 0.3), 0px 1px 3px 1px rgba(60, 64, 67, 0.15);\n",
              "      fill: #174EA6;\n",
              "    }\n",
              "\n",
              "    .colab-df-buttons div {\n",
              "      margin-bottom: 4px;\n",
              "    }\n",
              "\n",
              "    [theme=dark] .colab-df-convert {\n",
              "      background-color: #3B4455;\n",
              "      fill: #D2E3FC;\n",
              "    }\n",
              "\n",
              "    [theme=dark] .colab-df-convert:hover {\n",
              "      background-color: #434B5C;\n",
              "      box-shadow: 0px 1px 3px 1px rgba(0, 0, 0, 0.15);\n",
              "      filter: drop-shadow(0px 1px 2px rgba(0, 0, 0, 0.3));\n",
              "      fill: #FFFFFF;\n",
              "    }\n",
              "  </style>\n",
              "\n",
              "    <script>\n",
              "      const buttonEl =\n",
              "        document.querySelector('#df-b578a4b1-3072-4804-9324-23d5df30c640 button.colab-df-convert');\n",
              "      buttonEl.style.display =\n",
              "        google.colab.kernel.accessAllowed ? 'block' : 'none';\n",
              "\n",
              "      async function convertToInteractive(key) {\n",
              "        const element = document.querySelector('#df-b578a4b1-3072-4804-9324-23d5df30c640');\n",
              "        const dataTable =\n",
              "          await google.colab.kernel.invokeFunction('convertToInteractive',\n",
              "                                                    [key], {});\n",
              "        if (!dataTable) return;\n",
              "\n",
              "        const docLinkHtml = 'Like what you see? Visit the ' +\n",
              "          '<a target=\"_blank\" href=https://colab.research.google.com/notebooks/data_table.ipynb>data table notebook</a>'\n",
              "          + ' to learn more about interactive tables.';\n",
              "        element.innerHTML = '';\n",
              "        dataTable['output_type'] = 'display_data';\n",
              "        await google.colab.output.renderOutput(dataTable, element);\n",
              "        const docLink = document.createElement('div');\n",
              "        docLink.innerHTML = docLinkHtml;\n",
              "        element.appendChild(docLink);\n",
              "      }\n",
              "    </script>\n",
              "  </div>\n",
              "\n",
              "\n",
              "    <div id=\"df-dd103fa7-f1ac-4342-b4bf-82b03005c363\">\n",
              "      <button class=\"colab-df-quickchart\" onclick=\"quickchart('df-dd103fa7-f1ac-4342-b4bf-82b03005c363')\"\n",
              "                title=\"Suggest charts\"\n",
              "                style=\"display:none;\">\n",
              "\n",
              "<svg xmlns=\"http://www.w3.org/2000/svg\" height=\"24px\"viewBox=\"0 0 24 24\"\n",
              "     width=\"24px\">\n",
              "    <g>\n",
              "        <path d=\"M19 3H5c-1.1 0-2 .9-2 2v14c0 1.1.9 2 2 2h14c1.1 0 2-.9 2-2V5c0-1.1-.9-2-2-2zM9 17H7v-7h2v7zm4 0h-2V7h2v10zm4 0h-2v-4h2v4z\"/>\n",
              "    </g>\n",
              "</svg>\n",
              "      </button>\n",
              "\n",
              "<style>\n",
              "  .colab-df-quickchart {\n",
              "      --bg-color: #E8F0FE;\n",
              "      --fill-color: #1967D2;\n",
              "      --hover-bg-color: #E2EBFA;\n",
              "      --hover-fill-color: #174EA6;\n",
              "      --disabled-fill-color: #AAA;\n",
              "      --disabled-bg-color: #DDD;\n",
              "  }\n",
              "\n",
              "  [theme=dark] .colab-df-quickchart {\n",
              "      --bg-color: #3B4455;\n",
              "      --fill-color: #D2E3FC;\n",
              "      --hover-bg-color: #434B5C;\n",
              "      --hover-fill-color: #FFFFFF;\n",
              "      --disabled-bg-color: #3B4455;\n",
              "      --disabled-fill-color: #666;\n",
              "  }\n",
              "\n",
              "  .colab-df-quickchart {\n",
              "    background-color: var(--bg-color);\n",
              "    border: none;\n",
              "    border-radius: 50%;\n",
              "    cursor: pointer;\n",
              "    display: none;\n",
              "    fill: var(--fill-color);\n",
              "    height: 32px;\n",
              "    padding: 0;\n",
              "    width: 32px;\n",
              "  }\n",
              "\n",
              "  .colab-df-quickchart:hover {\n",
              "    background-color: var(--hover-bg-color);\n",
              "    box-shadow: 0 1px 2px rgba(60, 64, 67, 0.3), 0 1px 3px 1px rgba(60, 64, 67, 0.15);\n",
              "    fill: var(--button-hover-fill-color);\n",
              "  }\n",
              "\n",
              "  .colab-df-quickchart-complete:disabled,\n",
              "  .colab-df-quickchart-complete:disabled:hover {\n",
              "    background-color: var(--disabled-bg-color);\n",
              "    fill: var(--disabled-fill-color);\n",
              "    box-shadow: none;\n",
              "  }\n",
              "\n",
              "  .colab-df-spinner {\n",
              "    border: 2px solid var(--fill-color);\n",
              "    border-color: transparent;\n",
              "    border-bottom-color: var(--fill-color);\n",
              "    animation:\n",
              "      spin 1s steps(1) infinite;\n",
              "  }\n",
              "\n",
              "  @keyframes spin {\n",
              "    0% {\n",
              "      border-color: transparent;\n",
              "      border-bottom-color: var(--fill-color);\n",
              "      border-left-color: var(--fill-color);\n",
              "    }\n",
              "    20% {\n",
              "      border-color: transparent;\n",
              "      border-left-color: var(--fill-color);\n",
              "      border-top-color: var(--fill-color);\n",
              "    }\n",
              "    30% {\n",
              "      border-color: transparent;\n",
              "      border-left-color: var(--fill-color);\n",
              "      border-top-color: var(--fill-color);\n",
              "      border-right-color: var(--fill-color);\n",
              "    }\n",
              "    40% {\n",
              "      border-color: transparent;\n",
              "      border-right-color: var(--fill-color);\n",
              "      border-top-color: var(--fill-color);\n",
              "    }\n",
              "    60% {\n",
              "      border-color: transparent;\n",
              "      border-right-color: var(--fill-color);\n",
              "    }\n",
              "    80% {\n",
              "      border-color: transparent;\n",
              "      border-right-color: var(--fill-color);\n",
              "      border-bottom-color: var(--fill-color);\n",
              "    }\n",
              "    90% {\n",
              "      border-color: transparent;\n",
              "      border-bottom-color: var(--fill-color);\n",
              "    }\n",
              "  }\n",
              "</style>\n",
              "\n",
              "      <script>\n",
              "        async function quickchart(key) {\n",
              "          const quickchartButtonEl =\n",
              "            document.querySelector('#' + key + ' button');\n",
              "          quickchartButtonEl.disabled = true;  // To prevent multiple clicks.\n",
              "          quickchartButtonEl.classList.add('colab-df-spinner');\n",
              "          try {\n",
              "            const charts = await google.colab.kernel.invokeFunction(\n",
              "                'suggestCharts', [key], {});\n",
              "          } catch (error) {\n",
              "            console.error('Error during call to suggestCharts:', error);\n",
              "          }\n",
              "          quickchartButtonEl.classList.remove('colab-df-spinner');\n",
              "          quickchartButtonEl.classList.add('colab-df-quickchart-complete');\n",
              "        }\n",
              "        (() => {\n",
              "          let quickchartButtonEl =\n",
              "            document.querySelector('#df-dd103fa7-f1ac-4342-b4bf-82b03005c363 button');\n",
              "          quickchartButtonEl.style.display =\n",
              "            google.colab.kernel.accessAllowed ? 'block' : 'none';\n",
              "        })();\n",
              "      </script>\n",
              "    </div>\n",
              "\n",
              "    </div>\n",
              "  </div>\n"
            ],
            "application/vnd.google.colaboratory.intrinsic+json": {
              "type": "dataframe",
              "variable_name": "df",
              "summary": "{\n  \"name\": \"df\",\n  \"rows\": 150,\n  \"fields\": [\n    {\n      \"column\": \"sepal.length\",\n      \"properties\": {\n        \"dtype\": \"number\",\n        \"std\": 0.8280661279778629,\n        \"min\": 4.3,\n        \"max\": 7.9,\n        \"num_unique_values\": 35,\n        \"samples\": [\n          6.2,\n          4.5,\n          5.6\n        ],\n        \"semantic_type\": \"\",\n        \"description\": \"\"\n      }\n    },\n    {\n      \"column\": \"sepal.width\",\n      \"properties\": {\n        \"dtype\": \"number\",\n        \"std\": 0.435866284936698,\n        \"min\": 2.0,\n        \"max\": 4.4,\n        \"num_unique_values\": 23,\n        \"samples\": [\n          2.3,\n          4.0,\n          3.5\n        ],\n        \"semantic_type\": \"\",\n        \"description\": \"\"\n      }\n    },\n    {\n      \"column\": \"petal.length\",\n      \"properties\": {\n        \"dtype\": \"number\",\n        \"std\": 1.7652982332594667,\n        \"min\": 1.0,\n        \"max\": 6.9,\n        \"num_unique_values\": 43,\n        \"samples\": [\n          6.7,\n          3.8,\n          3.7\n        ],\n        \"semantic_type\": \"\",\n        \"description\": \"\"\n      }\n    },\n    {\n      \"column\": \"petal.width\",\n      \"properties\": {\n        \"dtype\": \"number\",\n        \"std\": 0.7622376689603465,\n        \"min\": 0.1,\n        \"max\": 2.5,\n        \"num_unique_values\": 22,\n        \"samples\": [\n          0.2,\n          1.2,\n          1.3\n        ],\n        \"semantic_type\": \"\",\n        \"description\": \"\"\n      }\n    },\n    {\n      \"column\": \"variety\",\n      \"properties\": {\n        \"dtype\": \"category\",\n        \"num_unique_values\": 3,\n        \"samples\": [\n          \"Setosa\",\n          \"Versicolor\",\n          \"Virginica\"\n        ],\n        \"semantic_type\": \"\",\n        \"description\": \"\"\n      }\n    }\n  ]\n}"
            }
          },
          "metadata": {},
          "execution_count": 43
        }
      ]
    },
    {
      "cell_type": "code",
      "source": [
        "df['variety']=df['variety'].replace('Setosa',0)\n",
        "df['variety']=df['variety'].replace('Versicolor',1)\n",
        "df['variety']=df['variety'].replace('Virginica',2)"
      ],
      "metadata": {
        "colab": {
          "base_uri": "https://localhost:8080/"
        },
        "id": "DmQEQtJ_bXfJ",
        "outputId": "bb87e655-8fb3-4d58-ce28-83527121ed54"
      },
      "execution_count": null,
      "outputs": [
        {
          "output_type": "stream",
          "name": "stderr",
          "text": [
            "/tmp/ipython-input-2834671431.py:3: FutureWarning: Downcasting behavior in `replace` is deprecated and will be removed in a future version. To retain the old behavior, explicitly call `result.infer_objects(copy=False)`. To opt-in to the future behavior, set `pd.set_option('future.no_silent_downcasting', True)`\n",
            "  df['variety']=df['variety'].replace('Virginica',2)\n"
          ]
        }
      ]
    },
    {
      "cell_type": "code",
      "source": [
        "df"
      ],
      "metadata": {
        "colab": {
          "base_uri": "https://localhost:8080/",
          "height": 424
        },
        "id": "flb8_r7XcEW5",
        "outputId": "39c64040-7f47-47aa-b83c-53fb805906a3"
      },
      "execution_count": null,
      "outputs": [
        {
          "output_type": "execute_result",
          "data": {
            "text/plain": [
              "     sepal.length  sepal.width  petal.length  petal.width  variety\n",
              "0             5.1          3.5           1.4          0.2        0\n",
              "1             4.9          3.0           1.4          0.2        0\n",
              "2             4.7          3.2           1.3          0.2        0\n",
              "3             4.6          3.1           1.5          0.2        0\n",
              "4             5.0          3.6           1.4          0.2        0\n",
              "..            ...          ...           ...          ...      ...\n",
              "145           6.7          3.0           5.2          2.3        2\n",
              "146           6.3          2.5           5.0          1.9        2\n",
              "147           6.5          3.0           5.2          2.0        2\n",
              "148           6.2          3.4           5.4          2.3        2\n",
              "149           5.9          3.0           5.1          1.8        2\n",
              "\n",
              "[150 rows x 5 columns]"
            ],
            "text/html": [
              "\n",
              "  <div id=\"df-b709accd-6abc-400f-b781-767d43edad94\" class=\"colab-df-container\">\n",
              "    <div>\n",
              "<style scoped>\n",
              "    .dataframe tbody tr th:only-of-type {\n",
              "        vertical-align: middle;\n",
              "    }\n",
              "\n",
              "    .dataframe tbody tr th {\n",
              "        vertical-align: top;\n",
              "    }\n",
              "\n",
              "    .dataframe thead th {\n",
              "        text-align: right;\n",
              "    }\n",
              "</style>\n",
              "<table border=\"1\" class=\"dataframe\">\n",
              "  <thead>\n",
              "    <tr style=\"text-align: right;\">\n",
              "      <th></th>\n",
              "      <th>sepal.length</th>\n",
              "      <th>sepal.width</th>\n",
              "      <th>petal.length</th>\n",
              "      <th>petal.width</th>\n",
              "      <th>variety</th>\n",
              "    </tr>\n",
              "  </thead>\n",
              "  <tbody>\n",
              "    <tr>\n",
              "      <th>0</th>\n",
              "      <td>5.1</td>\n",
              "      <td>3.5</td>\n",
              "      <td>1.4</td>\n",
              "      <td>0.2</td>\n",
              "      <td>0</td>\n",
              "    </tr>\n",
              "    <tr>\n",
              "      <th>1</th>\n",
              "      <td>4.9</td>\n",
              "      <td>3.0</td>\n",
              "      <td>1.4</td>\n",
              "      <td>0.2</td>\n",
              "      <td>0</td>\n",
              "    </tr>\n",
              "    <tr>\n",
              "      <th>2</th>\n",
              "      <td>4.7</td>\n",
              "      <td>3.2</td>\n",
              "      <td>1.3</td>\n",
              "      <td>0.2</td>\n",
              "      <td>0</td>\n",
              "    </tr>\n",
              "    <tr>\n",
              "      <th>3</th>\n",
              "      <td>4.6</td>\n",
              "      <td>3.1</td>\n",
              "      <td>1.5</td>\n",
              "      <td>0.2</td>\n",
              "      <td>0</td>\n",
              "    </tr>\n",
              "    <tr>\n",
              "      <th>4</th>\n",
              "      <td>5.0</td>\n",
              "      <td>3.6</td>\n",
              "      <td>1.4</td>\n",
              "      <td>0.2</td>\n",
              "      <td>0</td>\n",
              "    </tr>\n",
              "    <tr>\n",
              "      <th>...</th>\n",
              "      <td>...</td>\n",
              "      <td>...</td>\n",
              "      <td>...</td>\n",
              "      <td>...</td>\n",
              "      <td>...</td>\n",
              "    </tr>\n",
              "    <tr>\n",
              "      <th>145</th>\n",
              "      <td>6.7</td>\n",
              "      <td>3.0</td>\n",
              "      <td>5.2</td>\n",
              "      <td>2.3</td>\n",
              "      <td>2</td>\n",
              "    </tr>\n",
              "    <tr>\n",
              "      <th>146</th>\n",
              "      <td>6.3</td>\n",
              "      <td>2.5</td>\n",
              "      <td>5.0</td>\n",
              "      <td>1.9</td>\n",
              "      <td>2</td>\n",
              "    </tr>\n",
              "    <tr>\n",
              "      <th>147</th>\n",
              "      <td>6.5</td>\n",
              "      <td>3.0</td>\n",
              "      <td>5.2</td>\n",
              "      <td>2.0</td>\n",
              "      <td>2</td>\n",
              "    </tr>\n",
              "    <tr>\n",
              "      <th>148</th>\n",
              "      <td>6.2</td>\n",
              "      <td>3.4</td>\n",
              "      <td>5.4</td>\n",
              "      <td>2.3</td>\n",
              "      <td>2</td>\n",
              "    </tr>\n",
              "    <tr>\n",
              "      <th>149</th>\n",
              "      <td>5.9</td>\n",
              "      <td>3.0</td>\n",
              "      <td>5.1</td>\n",
              "      <td>1.8</td>\n",
              "      <td>2</td>\n",
              "    </tr>\n",
              "  </tbody>\n",
              "</table>\n",
              "<p>150 rows × 5 columns</p>\n",
              "</div>\n",
              "    <div class=\"colab-df-buttons\">\n",
              "\n",
              "  <div class=\"colab-df-container\">\n",
              "    <button class=\"colab-df-convert\" onclick=\"convertToInteractive('df-b709accd-6abc-400f-b781-767d43edad94')\"\n",
              "            title=\"Convert this dataframe to an interactive table.\"\n",
              "            style=\"display:none;\">\n",
              "\n",
              "  <svg xmlns=\"http://www.w3.org/2000/svg\" height=\"24px\" viewBox=\"0 -960 960 960\">\n",
              "    <path d=\"M120-120v-720h720v720H120Zm60-500h600v-160H180v160Zm220 220h160v-160H400v160Zm0 220h160v-160H400v160ZM180-400h160v-160H180v160Zm440 0h160v-160H620v160ZM180-180h160v-160H180v160Zm440 0h160v-160H620v160Z\"/>\n",
              "  </svg>\n",
              "    </button>\n",
              "\n",
              "  <style>\n",
              "    .colab-df-container {\n",
              "      display:flex;\n",
              "      gap: 12px;\n",
              "    }\n",
              "\n",
              "    .colab-df-convert {\n",
              "      background-color: #E8F0FE;\n",
              "      border: none;\n",
              "      border-radius: 50%;\n",
              "      cursor: pointer;\n",
              "      display: none;\n",
              "      fill: #1967D2;\n",
              "      height: 32px;\n",
              "      padding: 0 0 0 0;\n",
              "      width: 32px;\n",
              "    }\n",
              "\n",
              "    .colab-df-convert:hover {\n",
              "      background-color: #E2EBFA;\n",
              "      box-shadow: 0px 1px 2px rgba(60, 64, 67, 0.3), 0px 1px 3px 1px rgba(60, 64, 67, 0.15);\n",
              "      fill: #174EA6;\n",
              "    }\n",
              "\n",
              "    .colab-df-buttons div {\n",
              "      margin-bottom: 4px;\n",
              "    }\n",
              "\n",
              "    [theme=dark] .colab-df-convert {\n",
              "      background-color: #3B4455;\n",
              "      fill: #D2E3FC;\n",
              "    }\n",
              "\n",
              "    [theme=dark] .colab-df-convert:hover {\n",
              "      background-color: #434B5C;\n",
              "      box-shadow: 0px 1px 3px 1px rgba(0, 0, 0, 0.15);\n",
              "      filter: drop-shadow(0px 1px 2px rgba(0, 0, 0, 0.3));\n",
              "      fill: #FFFFFF;\n",
              "    }\n",
              "  </style>\n",
              "\n",
              "    <script>\n",
              "      const buttonEl =\n",
              "        document.querySelector('#df-b709accd-6abc-400f-b781-767d43edad94 button.colab-df-convert');\n",
              "      buttonEl.style.display =\n",
              "        google.colab.kernel.accessAllowed ? 'block' : 'none';\n",
              "\n",
              "      async function convertToInteractive(key) {\n",
              "        const element = document.querySelector('#df-b709accd-6abc-400f-b781-767d43edad94');\n",
              "        const dataTable =\n",
              "          await google.colab.kernel.invokeFunction('convertToInteractive',\n",
              "                                                    [key], {});\n",
              "        if (!dataTable) return;\n",
              "\n",
              "        const docLinkHtml = 'Like what you see? Visit the ' +\n",
              "          '<a target=\"_blank\" href=https://colab.research.google.com/notebooks/data_table.ipynb>data table notebook</a>'\n",
              "          + ' to learn more about interactive tables.';\n",
              "        element.innerHTML = '';\n",
              "        dataTable['output_type'] = 'display_data';\n",
              "        await google.colab.output.renderOutput(dataTable, element);\n",
              "        const docLink = document.createElement('div');\n",
              "        docLink.innerHTML = docLinkHtml;\n",
              "        element.appendChild(docLink);\n",
              "      }\n",
              "    </script>\n",
              "  </div>\n",
              "\n",
              "\n",
              "    <div id=\"df-bb470381-13c9-4c3a-b896-71011f6abde8\">\n",
              "      <button class=\"colab-df-quickchart\" onclick=\"quickchart('df-bb470381-13c9-4c3a-b896-71011f6abde8')\"\n",
              "                title=\"Suggest charts\"\n",
              "                style=\"display:none;\">\n",
              "\n",
              "<svg xmlns=\"http://www.w3.org/2000/svg\" height=\"24px\"viewBox=\"0 0 24 24\"\n",
              "     width=\"24px\">\n",
              "    <g>\n",
              "        <path d=\"M19 3H5c-1.1 0-2 .9-2 2v14c0 1.1.9 2 2 2h14c1.1 0 2-.9 2-2V5c0-1.1-.9-2-2-2zM9 17H7v-7h2v7zm4 0h-2V7h2v10zm4 0h-2v-4h2v4z\"/>\n",
              "    </g>\n",
              "</svg>\n",
              "      </button>\n",
              "\n",
              "<style>\n",
              "  .colab-df-quickchart {\n",
              "      --bg-color: #E8F0FE;\n",
              "      --fill-color: #1967D2;\n",
              "      --hover-bg-color: #E2EBFA;\n",
              "      --hover-fill-color: #174EA6;\n",
              "      --disabled-fill-color: #AAA;\n",
              "      --disabled-bg-color: #DDD;\n",
              "  }\n",
              "\n",
              "  [theme=dark] .colab-df-quickchart {\n",
              "      --bg-color: #3B4455;\n",
              "      --fill-color: #D2E3FC;\n",
              "      --hover-bg-color: #434B5C;\n",
              "      --hover-fill-color: #FFFFFF;\n",
              "      --disabled-bg-color: #3B4455;\n",
              "      --disabled-fill-color: #666;\n",
              "  }\n",
              "\n",
              "  .colab-df-quickchart {\n",
              "    background-color: var(--bg-color);\n",
              "    border: none;\n",
              "    border-radius: 50%;\n",
              "    cursor: pointer;\n",
              "    display: none;\n",
              "    fill: var(--fill-color);\n",
              "    height: 32px;\n",
              "    padding: 0;\n",
              "    width: 32px;\n",
              "  }\n",
              "\n",
              "  .colab-df-quickchart:hover {\n",
              "    background-color: var(--hover-bg-color);\n",
              "    box-shadow: 0 1px 2px rgba(60, 64, 67, 0.3), 0 1px 3px 1px rgba(60, 64, 67, 0.15);\n",
              "    fill: var(--button-hover-fill-color);\n",
              "  }\n",
              "\n",
              "  .colab-df-quickchart-complete:disabled,\n",
              "  .colab-df-quickchart-complete:disabled:hover {\n",
              "    background-color: var(--disabled-bg-color);\n",
              "    fill: var(--disabled-fill-color);\n",
              "    box-shadow: none;\n",
              "  }\n",
              "\n",
              "  .colab-df-spinner {\n",
              "    border: 2px solid var(--fill-color);\n",
              "    border-color: transparent;\n",
              "    border-bottom-color: var(--fill-color);\n",
              "    animation:\n",
              "      spin 1s steps(1) infinite;\n",
              "  }\n",
              "\n",
              "  @keyframes spin {\n",
              "    0% {\n",
              "      border-color: transparent;\n",
              "      border-bottom-color: var(--fill-color);\n",
              "      border-left-color: var(--fill-color);\n",
              "    }\n",
              "    20% {\n",
              "      border-color: transparent;\n",
              "      border-left-color: var(--fill-color);\n",
              "      border-top-color: var(--fill-color);\n",
              "    }\n",
              "    30% {\n",
              "      border-color: transparent;\n",
              "      border-left-color: var(--fill-color);\n",
              "      border-top-color: var(--fill-color);\n",
              "      border-right-color: var(--fill-color);\n",
              "    }\n",
              "    40% {\n",
              "      border-color: transparent;\n",
              "      border-right-color: var(--fill-color);\n",
              "      border-top-color: var(--fill-color);\n",
              "    }\n",
              "    60% {\n",
              "      border-color: transparent;\n",
              "      border-right-color: var(--fill-color);\n",
              "    }\n",
              "    80% {\n",
              "      border-color: transparent;\n",
              "      border-right-color: var(--fill-color);\n",
              "      border-bottom-color: var(--fill-color);\n",
              "    }\n",
              "    90% {\n",
              "      border-color: transparent;\n",
              "      border-bottom-color: var(--fill-color);\n",
              "    }\n",
              "  }\n",
              "</style>\n",
              "\n",
              "      <script>\n",
              "        async function quickchart(key) {\n",
              "          const quickchartButtonEl =\n",
              "            document.querySelector('#' + key + ' button');\n",
              "          quickchartButtonEl.disabled = true;  // To prevent multiple clicks.\n",
              "          quickchartButtonEl.classList.add('colab-df-spinner');\n",
              "          try {\n",
              "            const charts = await google.colab.kernel.invokeFunction(\n",
              "                'suggestCharts', [key], {});\n",
              "          } catch (error) {\n",
              "            console.error('Error during call to suggestCharts:', error);\n",
              "          }\n",
              "          quickchartButtonEl.classList.remove('colab-df-spinner');\n",
              "          quickchartButtonEl.classList.add('colab-df-quickchart-complete');\n",
              "        }\n",
              "        (() => {\n",
              "          let quickchartButtonEl =\n",
              "            document.querySelector('#df-bb470381-13c9-4c3a-b896-71011f6abde8 button');\n",
              "          quickchartButtonEl.style.display =\n",
              "            google.colab.kernel.accessAllowed ? 'block' : 'none';\n",
              "        })();\n",
              "      </script>\n",
              "    </div>\n",
              "\n",
              "  <div id=\"id_15b9f43b-3236-441f-ae02-a5d11aca94c1\">\n",
              "    <style>\n",
              "      .colab-df-generate {\n",
              "        background-color: #E8F0FE;\n",
              "        border: none;\n",
              "        border-radius: 50%;\n",
              "        cursor: pointer;\n",
              "        display: none;\n",
              "        fill: #1967D2;\n",
              "        height: 32px;\n",
              "        padding: 0 0 0 0;\n",
              "        width: 32px;\n",
              "      }\n",
              "\n",
              "      .colab-df-generate:hover {\n",
              "        background-color: #E2EBFA;\n",
              "        box-shadow: 0px 1px 2px rgba(60, 64, 67, 0.3), 0px 1px 3px 1px rgba(60, 64, 67, 0.15);\n",
              "        fill: #174EA6;\n",
              "      }\n",
              "\n",
              "      [theme=dark] .colab-df-generate {\n",
              "        background-color: #3B4455;\n",
              "        fill: #D2E3FC;\n",
              "      }\n",
              "\n",
              "      [theme=dark] .colab-df-generate:hover {\n",
              "        background-color: #434B5C;\n",
              "        box-shadow: 0px 1px 3px 1px rgba(0, 0, 0, 0.15);\n",
              "        filter: drop-shadow(0px 1px 2px rgba(0, 0, 0, 0.3));\n",
              "        fill: #FFFFFF;\n",
              "      }\n",
              "    </style>\n",
              "    <button class=\"colab-df-generate\" onclick=\"generateWithVariable('df')\"\n",
              "            title=\"Generate code using this dataframe.\"\n",
              "            style=\"display:none;\">\n",
              "\n",
              "  <svg xmlns=\"http://www.w3.org/2000/svg\" height=\"24px\"viewBox=\"0 0 24 24\"\n",
              "       width=\"24px\">\n",
              "    <path d=\"M7,19H8.4L18.45,9,17,7.55,7,17.6ZM5,21V16.75L18.45,3.32a2,2,0,0,1,2.83,0l1.4,1.43a1.91,1.91,0,0,1,.58,1.4,1.91,1.91,0,0,1-.58,1.4L9.25,21ZM18.45,9,17,7.55Zm-12,3A5.31,5.31,0,0,0,4.9,8.1,5.31,5.31,0,0,0,1,6.5,5.31,5.31,0,0,0,4.9,4.9,5.31,5.31,0,0,0,6.5,1,5.31,5.31,0,0,0,8.1,4.9,5.31,5.31,0,0,0,12,6.5,5.46,5.46,0,0,0,6.5,12Z\"/>\n",
              "  </svg>\n",
              "    </button>\n",
              "    <script>\n",
              "      (() => {\n",
              "      const buttonEl =\n",
              "        document.querySelector('#id_15b9f43b-3236-441f-ae02-a5d11aca94c1 button.colab-df-generate');\n",
              "      buttonEl.style.display =\n",
              "        google.colab.kernel.accessAllowed ? 'block' : 'none';\n",
              "\n",
              "      buttonEl.onclick = () => {\n",
              "        google.colab.notebook.generateWithVariable('df');\n",
              "      }\n",
              "      })();\n",
              "    </script>\n",
              "  </div>\n",
              "\n",
              "    </div>\n",
              "  </div>\n"
            ],
            "application/vnd.google.colaboratory.intrinsic+json": {
              "type": "dataframe",
              "variable_name": "df",
              "summary": "{\n  \"name\": \"df\",\n  \"rows\": 150,\n  \"fields\": [\n    {\n      \"column\": \"sepal.length\",\n      \"properties\": {\n        \"dtype\": \"number\",\n        \"std\": 0.8280661279778629,\n        \"min\": 4.3,\n        \"max\": 7.9,\n        \"num_unique_values\": 35,\n        \"samples\": [\n          6.2,\n          4.5,\n          5.6\n        ],\n        \"semantic_type\": \"\",\n        \"description\": \"\"\n      }\n    },\n    {\n      \"column\": \"sepal.width\",\n      \"properties\": {\n        \"dtype\": \"number\",\n        \"std\": 0.435866284936698,\n        \"min\": 2.0,\n        \"max\": 4.4,\n        \"num_unique_values\": 23,\n        \"samples\": [\n          2.3,\n          4.0,\n          3.5\n        ],\n        \"semantic_type\": \"\",\n        \"description\": \"\"\n      }\n    },\n    {\n      \"column\": \"petal.length\",\n      \"properties\": {\n        \"dtype\": \"number\",\n        \"std\": 1.7652982332594667,\n        \"min\": 1.0,\n        \"max\": 6.9,\n        \"num_unique_values\": 43,\n        \"samples\": [\n          6.7,\n          3.8,\n          3.7\n        ],\n        \"semantic_type\": \"\",\n        \"description\": \"\"\n      }\n    },\n    {\n      \"column\": \"petal.width\",\n      \"properties\": {\n        \"dtype\": \"number\",\n        \"std\": 0.7622376689603465,\n        \"min\": 0.1,\n        \"max\": 2.5,\n        \"num_unique_values\": 22,\n        \"samples\": [\n          0.2,\n          1.2,\n          1.3\n        ],\n        \"semantic_type\": \"\",\n        \"description\": \"\"\n      }\n    },\n    {\n      \"column\": \"variety\",\n      \"properties\": {\n        \"dtype\": \"number\",\n        \"std\": 0,\n        \"min\": 0,\n        \"max\": 2,\n        \"num_unique_values\": 3,\n        \"samples\": [\n          0,\n          1,\n          2\n        ],\n        \"semantic_type\": \"\",\n        \"description\": \"\"\n      }\n    }\n  ]\n}"
            }
          },
          "metadata": {},
          "execution_count": 45
        }
      ]
    },
    {
      "cell_type": "code",
      "source": [
        "#train test split set x,y\n",
        "\n",
        "X=df.drop('variety',axis=1)\n",
        "Y=df['variety']"
      ],
      "metadata": {
        "id": "q9u1ZRP4cLF_"
      },
      "execution_count": null,
      "outputs": []
    },
    {
      "cell_type": "code",
      "source": [
        "#convert to numpy arrays\n",
        "X.values\n",
        "Y.values"
      ],
      "metadata": {
        "colab": {
          "base_uri": "https://localhost:8080/"
        },
        "id": "WShBg8RNc6Sn",
        "outputId": "40c83327-636e-429c-ad38-792a6b6519f5"
      },
      "execution_count": null,
      "outputs": [
        {
          "output_type": "execute_result",
          "data": {
            "text/plain": [
              "array([0, 0, 0, 0, 0, 0, 0, 0, 0, 0, 0, 0, 0, 0, 0, 0, 0, 0, 0, 0, 0, 0,\n",
              "       0, 0, 0, 0, 0, 0, 0, 0, 0, 0, 0, 0, 0, 0, 0, 0, 0, 0, 0, 0, 0, 0,\n",
              "       0, 0, 0, 0, 0, 0, 1, 1, 1, 1, 1, 1, 1, 1, 1, 1, 1, 1, 1, 1, 1, 1,\n",
              "       1, 1, 1, 1, 1, 1, 1, 1, 1, 1, 1, 1, 1, 1, 1, 1, 1, 1, 1, 1, 1, 1,\n",
              "       1, 1, 1, 1, 1, 1, 1, 1, 1, 1, 1, 1, 2, 2, 2, 2, 2, 2, 2, 2, 2, 2,\n",
              "       2, 2, 2, 2, 2, 2, 2, 2, 2, 2, 2, 2, 2, 2, 2, 2, 2, 2, 2, 2, 2, 2,\n",
              "       2, 2, 2, 2, 2, 2, 2, 2, 2, 2, 2, 2, 2, 2, 2, 2, 2, 2])"
            ]
          },
          "metadata": {},
          "execution_count": 47
        }
      ]
    },
    {
      "cell_type": "code",
      "source": [
        "from sklearn.model_selection import train_test_split"
      ],
      "metadata": {
        "id": "Iu5X4Kr_dEu7"
      },
      "execution_count": null,
      "outputs": []
    },
    {
      "cell_type": "code",
      "source": [
        "#train test split\n",
        "X_train,X_test,Y_train,Y_test=train_test_split(X.values,Y.values,test_size=0.2,random_state=32)"
      ],
      "metadata": {
        "id": "LG14vIXteKt2"
      },
      "execution_count": null,
      "outputs": []
    },
    {
      "cell_type": "code",
      "source": [
        "#convert x features to float tensors\n",
        "X_train=torch.FloatTensor(X_train)\n",
        "X_test=torch.FloatTensor(X_test)"
      ],
      "metadata": {
        "id": "J7U8hucGkgFi"
      },
      "execution_count": null,
      "outputs": []
    },
    {
      "cell_type": "code",
      "source": [
        "#convert y labels to tensors long\n",
        "Y_train=torch.LongTensor(Y_train)\n",
        "Y_test=torch.LongTensor(Y_test)"
      ],
      "metadata": {
        "id": "1-3Oj-8PknOK"
      },
      "execution_count": null,
      "outputs": []
    },
    {
      "cell_type": "code",
      "source": [
        "#set the criterion of model to measure the error , how far off the predictions are from the data\n",
        "criterion = nn.CrossEntropyLoss()\n",
        "#choose adam optimizer, lr = learning rate ( if error dosen't goes down after a bunch of iterations(epochs), lower our learnig rate)\n",
        "optimizer = torch.optim.Adam(model.parameters(), lr=0.01)"
      ],
      "metadata": {
        "id": "T2WOkvLtkt8Y"
      },
      "execution_count": null,
      "outputs": []
    },
    {
      "cell_type": "code",
      "source": [
        "\n",
        "#train our model\n",
        "#Epochs?(one run through all the training data in our network)\n",
        "epochs=100\n",
        "losses=[]\n",
        "for i in range(epochs):\n",
        "  #go forward and get a prediction\n",
        "  y_pred=model.forward(X_train)#get predicted result\n",
        "  #measure the loss/error, gonna be high at first\n",
        "  loss=criterion(y_pred,Y_train)#predicted values vs the y_train\n",
        "  #keep track of our losses\n",
        "  losses.append(loss.detach().numpy())\n",
        "  #print every ten epochs\n",
        "  if i%10==0:\n",
        "    print(f'epoch: {i} loss: {loss}')\n",
        "  #do some back propogation : take the error rate of forward propogation and feed it back thought the network to fine tune the weights\n",
        "  optimizer.zero_grad()\n",
        "  loss.backward()\n",
        "  optimizer.step()"
      ],
      "metadata": {
        "colab": {
          "base_uri": "https://localhost:8080/"
        },
        "id": "50U-9CgImDDY",
        "outputId": "1c0b68dc-063e-448b-bcde-21086f1d0351"
      },
      "execution_count": null,
      "outputs": [
        {
          "output_type": "stream",
          "name": "stdout",
          "text": [
            "epoch: 0 loss: 1.1699321269989014\n",
            "epoch: 10 loss: 0.9570867419242859\n",
            "epoch: 20 loss: 0.7980871796607971\n",
            "epoch: 30 loss: 0.6327950358390808\n",
            "epoch: 40 loss: 0.43861737847328186\n",
            "epoch: 50 loss: 0.290453165769577\n",
            "epoch: 60 loss: 0.17780695855617523\n",
            "epoch: 70 loss: 0.11584118008613586\n",
            "epoch: 80 loss: 0.0893637090921402\n",
            "epoch: 90 loss: 0.07752915471792221\n"
          ]
        }
      ]
    },
    {
      "cell_type": "code",
      "source": [
        "plt.plot(range(epochs),losses)\n",
        "plt.ylabel('loss')\n",
        "plt.xlabel('epoch')"
      ],
      "metadata": {
        "id": "bCWiKCVlnLnh",
        "colab": {
          "base_uri": "https://localhost:8080/",
          "height": 466
        },
        "outputId": "9570f366-2678-454a-e771-06468d722dd1"
      },
      "execution_count": null,
      "outputs": [
        {
          "output_type": "execute_result",
          "data": {
            "text/plain": [
              "Text(0.5, 0, 'epoch')"
            ]
          },
          "metadata": {},
          "execution_count": 54
        },
        {
          "output_type": "display_data",
          "data": {
            "text/plain": [
              "<Figure size 640x480 with 1 Axes>"
            ],
            "image/png": "[encoded data removed]"
          },
          "metadata": {}
        }
      ]
    },
    {
      "cell_type": "code",
      "source": [
        "#evalute our moodel on training dataset\n",
        "with torch.no_grad():#basically turn off back propogation\n",
        "  y_eval=model.forward(X_test) #x_test are features from our test set , y_eaval will be predictions\n",
        "  loss=criterion(y_eval,Y_test)# find the loss/error"
      ],
      "metadata": {
        "id": "dAxdl1ba_gYC"
      },
      "execution_count": null,
      "outputs": []
    },
    {
      "cell_type": "code",
      "source": [
        "loss"
      ],
      "metadata": {
        "colab": {
          "base_uri": "https://localhost:8080/"
        },
        "id": "tAtYwWDCABeR",
        "outputId": "15d7b5e9-d2d4-4ad5-9cee-ea2e42ee85b1"
      },
      "execution_count": null,
      "outputs": [
        {
          "output_type": "execute_result",
          "data": {
            "text/plain": [
              "tensor(0.0538)"
            ]
          },
          "metadata": {},
          "execution_count": 56
        }
      ]
    },
    {
      "cell_type": "code",
      "source": [
        "correct = 0\n",
        "with torch.no_grad():\n",
        "  for i,data in enumerate(X_test):\n",
        "    y_val=model.forward(data)\n",
        "    print(f'{i+1:2}. {str(y_val):38} {Y_test[i]}')\n",
        "    #correct or not\n",
        "    if y_val.argmax().item()==Y_test[i]:\n",
        "      correct+=1\n",
        "print(f'\\n{correct} out of {len(Y_test)} = {100*correct/len(Y_test):.2f}% correct')\n",
        "#"
      ],
      "metadata": {
        "colab": {
          "base_uri": "https://localhost:8080/"
        },
        "id": "Y1CaOrfQAswv",
        "outputId": "d978a62c-fa5c-473e-c3c0-4f4b471e85d4"
      },
      "execution_count": null,
      "outputs": [
        {
          "output_type": "stream",
          "name": "stdout",
          "text": [
            " 1. tensor([-3.3646,  3.9392,  0.3720])    1\n",
            " 2. tensor([  7.5572,   1.1015, -11.3347]) 0\n",
            " 3. tensor([  6.5957,   1.5027, -10.4091]) 0\n",
            " 4. tensor([-3.3331,  4.2594,  0.0623])    1\n",
            " 5. tensor([-7.3782,  2.8087,  5.1605])    2\n",
            " 6. tensor([-7.3760,  3.9013,  4.2826])    2\n",
            " 7. tensor([  6.1971,   1.6470, -10.0047]) 0\n",
            " 8. tensor([  6.6383,   1.4348, -10.4031]) 0\n",
            " 9. tensor([-2.6753,  4.3091, -0.6392])    1\n",
            "10. tensor([  7.1875,   1.3812, -11.0965]) 0\n",
            "11. tensor([-3.8318,  4.4027,  0.5246])    1\n",
            "12. tensor([-8.6807,  1.9994,  6.8923])    2\n",
            "13. tensor([-2.0678,  3.8200, -0.7571])    1\n",
            "14. tensor([-1.0768,  4.3741, -2.2838])    1\n",
            "15. tensor([-7.4965,  2.6207,  5.3287])    2\n",
            "16. tensor([-8.6136,  1.5508,  7.1186])    2\n",
            "17. tensor([-3.7761,  3.6462,  0.9487])    1\n",
            "18. tensor([-6.7608,  2.7754,  4.5281])    2\n",
            "19. tensor([-1.7048,  4.1980, -1.4670])    1\n",
            "20. tensor([  7.7757,   1.3740, -11.8864]) 0\n",
            "21. tensor([  6.8811,   1.5887, -10.8763]) 0\n",
            "22. tensor([-9.4350,  2.7012,  7.2406])    2\n",
            "23. tensor([-5.7694,  3.0131,  3.3490])    2\n",
            "24. tensor([  6.7561,   1.3467, -10.4799]) 0\n",
            "25. tensor([  6.7959,   1.0626, -10.2672]) 0\n",
            "26. tensor([-1.4388,  4.3212, -1.8930])    1\n",
            "27. tensor([  7.8687,   1.2718, -11.9165]) 0\n",
            "28. tensor([-9.8075,  1.7086,  8.1659])    2\n",
            "29. tensor([  7.3769,   1.3871, -11.3586]) 0\n",
            "30. tensor([  7.1775,   1.3937, -11.0947]) 0\n",
            "\n",
            "30 out of 30 = 100.00% correct\n"
          ]
        }
      ]
    },
    {
      "cell_type": "code",
      "source": [
        "new_iris=torch.tensor([4.7,3.2,1.3,0.2])\n",
        "# Pass the new_iris tensor to the forward method of the model instance\n",
        "with torch.no_grad():\n",
        "    prediction = model.forward(new_iris)\n",
        "    print(prediction)\n"
      ],
      "metadata": {
        "colab": {
          "base_uri": "https://localhost:8080/"
        },
        "id": "sBPQKQsAB1gm",
        "outputId": "2f570093-ec53-4ae2-cd0e-c5f941a20ce5"
      },
      "execution_count": null,
      "outputs": [
        {
          "output_type": "stream",
          "name": "stdout",
          "text": [
            "tensor([  6.8839,   1.2461, -10.5586])\n"
          ]
        }
      ]
    },
    {
      "cell_type": "code",
      "metadata": {
        "colab": {
          "base_uri": "https://localhost:8080/"
        },
        "id": "4a791f63",
        "outputId": "86ec5941-4298-4252-a16a-638274d6f019"
      },
      "source": [
        "newer_iris=torch.tensor([7.2,3.6,6.1,2.5])\n",
        "with torch.no_grad():\n",
        "    prediction = model.forward(newer_iris)\n",
        "    print(prediction)"
      ],
      "execution_count": null,
      "outputs": [
        {
          "output_type": "stream",
          "name": "stdout",
          "text": [
            "tensor([-10.0846,   2.0710,   8.2028])\n"
          ]
        }
      ]
    },
    {
      "cell_type": "code",
      "source": [
        "#save nn model\n",
        "torch.save(model.state_dict(),'my_iris_model.pt')"
      ],
      "metadata": {
        "id": "MEMVQF67FL6_"
      },
      "execution_count": null,
      "outputs": []
    },
    {
      "cell_type": "code",
      "source": [
        "#load the saved model\n",
        "new_model=Model()\n",
        "new_model.load_state_dict(torch.load('my_iris_model.pt'))"
      ],
      "metadata": {
        "colab": {
          "base_uri": "https://localhost:8080/"
        },
        "id": "kn649IAHGNMY",
        "outputId": "5c854d30-d974-4dfc-c8cd-0a88877f14a6"
      },
      "execution_count": null,
      "outputs": [
        {
          "output_type": "execute_result",
          "data": {
            "text/plain": [
              "<All keys matched successfully>"
            ]
          },
          "metadata": {},
          "execution_count": 61
        }
      ]
    },
    {
      "cell_type": "code",
      "source": [
        "#make sure it loaded correctly\n",
        "new_model.eval()"
      ],
      "metadata": {
        "colab": {
          "base_uri": "https://localhost:8080/"
        },
        "id": "Rzz1P_K0GZZK",
        "outputId": "5c6b6576-e9f7-4475-9ac8-ea5c68f6daba"
      },
      "execution_count": null,
      "outputs": [
        {
          "output_type": "execute_result",
          "data": {
            "text/plain": [
              "Model(\n",
              "  (fc1): Linear(in_features=4, out_features=8, bias=True)\n",
              "  (fc2): Linear(in_features=8, out_features=9, bias=True)\n",
              "  (out): Linear(in_features=9, out_features=3, bias=True)\n",
              ")"
            ]
          },
          "metadata": {},
          "execution_count": 62
        }
      ]
    },
    {
      "cell_type": "markdown",
      "source": [
        "### CNN-convolutional neural network\n"
      ],
      "metadata": {
        "id": "ZJ7aW6vd2-V7"
      }
    },
    {
      "cell_type": "code",
      "source": [
        "import torch\n",
        "import torch.nn as nn\n",
        "import torch.nn.functional as F\n",
        "from torch.utils.data import DataLoader\n",
        "from torchvision import datasets, transforms\n",
        "from torchvision.utils import make_grid\n",
        "\n",
        "import numpy as np\n",
        "import pandas as pd\n",
        "from sklearn.metrics import confusion_matrix\n",
        "import matplotlib.pyplot as plt\n",
        "%matplotlib inline"
      ],
      "metadata": {
        "id": "LpK0rjfDGh-f"
      },
      "execution_count": 1,
      "outputs": []
    },
    {
      "cell_type": "code",
      "source": [
        "#Convert mnist image files into tensor of 4-dimensions(# of images,height,width,color)\n",
        "transform=transforms.ToTensor()"
      ],
      "metadata": {
        "id": "LxGBD6wgtq6t"
      },
      "execution_count": 2,
      "outputs": []
    },
    {
      "cell_type": "code",
      "source": [
        "#train our data\n",
        "traindata=datasets.MNIST(root='/cnn_data',train=True,download=True,transform=transform)"
      ],
      "metadata": {
        "id": "nKG0pWz49sK6",
        "colab": {
          "base_uri": "https://localhost:8080/"
        },
        "outputId": "22f25d1b-2748-486f-9e7e-7f68535ffbea"
      },
      "execution_count": 3,
      "outputs": [
        {
          "output_type": "stream",
          "name": "stderr",
          "text": [
            "100%|██████████| 9.91M/9.91M [00:00<00:00, 20.2MB/s]\n",
            "100%|██████████| 28.9k/28.9k [00:00<00:00, 480kB/s]\n",
            "100%|██████████| 1.65M/1.65M [00:00<00:00, 4.52MB/s]\n",
            "100%|██████████| 4.54k/4.54k [00:00<00:00, 13.4MB/s]\n"
          ]
        }
      ]
    },
    {
      "cell_type": "code",
      "source": [
        "#test data\n",
        "testdata=datasets.MNIST(root='/cnn_data',train=False,download=True,transform=transform)"
      ],
      "metadata": {
        "id": "YYyrejzMxlBc"
      },
      "execution_count": 4,
      "outputs": []
    },
    {
      "cell_type": "code",
      "source": [
        "traindata"
      ],
      "metadata": {
        "colab": {
          "base_uri": "https://localhost:8080/"
        },
        "id": "Chi_3lAGxuBi",
        "outputId": "60ffe322-c272-4980-8d22-73714f5e4e57"
      },
      "execution_count": 5,
      "outputs": [
        {
          "output_type": "execute_result",
          "data": {
            "text/plain": [
              "Dataset MNIST\n",
              "    Number of datapoints: 60000\n",
              "    Root location: /cnn_data\n",
              "    Split: Train\n",
              "    StandardTransform\n",
              "Transform: ToTensor()"
            ]
          },
          "metadata": {},
          "execution_count": 5
        }
      ]
    },
    {
      "cell_type": "code",
      "source": [
        "testdata"
      ],
      "metadata": {
        "colab": {
          "base_uri": "https://localhost:8080/"
        },
        "id": "rljkukVnxytg",
        "outputId": "71ceb486-5713-477c-c0c6-6467582ae137"
      },
      "execution_count": 6,
      "outputs": [
        {
          "output_type": "execute_result",
          "data": {
            "text/plain": [
              "Dataset MNIST\n",
              "    Number of datapoints: 10000\n",
              "    Root location: /cnn_data\n",
              "    Split: Test\n",
              "    StandardTransform\n",
              "Transform: ToTensor()"
            ]
          },
          "metadata": {},
          "execution_count": 6
        }
      ]
    },
    {
      "cell_type": "code",
      "source": [
        "#create a small batch size for images let say 10\n",
        "train_loader=DataLoader(traindata,batch_size=10,shuffle=True)\n",
        "test_loader=DataLoader(testdata,batch_size=10,shuffle=False)"
      ],
      "metadata": {
        "id": "KuRw87Tfx2Qv"
      },
      "execution_count": 7,
      "outputs": []
    },
    {
      "cell_type": "code",
      "source": [
        "#define our cnn model\n",
        "#describe convolutional layer and what its doing(2 convolutional layer)\n",
        "conv1=nn.Conv2d(in_channels=1,out_channels=6,kernel_size=3,stride=1)\n",
        "conv2=nn.Conv2d(in_channels=6,out_channels=16,kernel_size=3,stride=1)"
      ],
      "metadata": {
        "id": "p5TYyL3j1n1i"
      },
      "execution_count": 62,
      "outputs": []
    },
    {
      "cell_type": "code",
      "source": [
        "#grab 1 mnist record / image\n",
        "for i,(x_train,y_train) in enumerate(train_loader):\n",
        "  break"
      ],
      "metadata": {
        "id": "QYKLmKx82mzr"
      },
      "execution_count": 63,
      "outputs": []
    },
    {
      "cell_type": "code",
      "source": [
        "x_train"
      ],
      "metadata": {
        "colab": {
          "base_uri": "https://localhost:8080/"
        },
        "id": "Nw9Gz4y42_7w",
        "outputId": "90bd6ec8-f958-406b-ed1c-9b4069f169f2"
      },
      "execution_count": 64,
      "outputs": [
        {
          "output_type": "execute_result",
          "data": {
            "text/plain": [
              "tensor([[[[0., 0., 0.,  ..., 0., 0., 0.],\n",
              "          [0., 0., 0.,  ..., 0., 0., 0.],\n",
              "          [0., 0., 0.,  ..., 0., 0., 0.],\n",
              "          ...,\n",
              "          [0., 0., 0.,  ..., 0., 0., 0.],\n",
              "          [0., 0., 0.,  ..., 0., 0., 0.],\n",
              "          [0., 0., 0.,  ..., 0., 0., 0.]]],\n",
              "\n",
              "\n",
              "        [[[0., 0., 0.,  ..., 0., 0., 0.],\n",
              "          [0., 0., 0.,  ..., 0., 0., 0.],\n",
              "          [0., 0., 0.,  ..., 0., 0., 0.],\n",
              "          ...,\n",
              "          [0., 0., 0.,  ..., 0., 0., 0.],\n",
              "          [0., 0., 0.,  ..., 0., 0., 0.],\n",
              "          [0., 0., 0.,  ..., 0., 0., 0.]]],\n",
              "\n",
              "\n",
              "        [[[0., 0., 0.,  ..., 0., 0., 0.],\n",
              "          [0., 0., 0.,  ..., 0., 0., 0.],\n",
              "          [0., 0., 0.,  ..., 0., 0., 0.],\n",
              "          ...,\n",
              "          [0., 0., 0.,  ..., 0., 0., 0.],\n",
              "          [0., 0., 0.,  ..., 0., 0., 0.],\n",
              "          [0., 0., 0.,  ..., 0., 0., 0.]]],\n",
              "\n",
              "\n",
              "        ...,\n",
              "\n",
              "\n",
              "        [[[0., 0., 0.,  ..., 0., 0., 0.],\n",
              "          [0., 0., 0.,  ..., 0., 0., 0.],\n",
              "          [0., 0., 0.,  ..., 0., 0., 0.],\n",
              "          ...,\n",
              "          [0., 0., 0.,  ..., 0., 0., 0.],\n",
              "          [0., 0., 0.,  ..., 0., 0., 0.],\n",
              "          [0., 0., 0.,  ..., 0., 0., 0.]]],\n",
              "\n",
              "\n",
              "        [[[0., 0., 0.,  ..., 0., 0., 0.],\n",
              "          [0., 0., 0.,  ..., 0., 0., 0.],\n",
              "          [0., 0., 0.,  ..., 0., 0., 0.],\n",
              "          ...,\n",
              "          [0., 0., 0.,  ..., 0., 0., 0.],\n",
              "          [0., 0., 0.,  ..., 0., 0., 0.],\n",
              "          [0., 0., 0.,  ..., 0., 0., 0.]]],\n",
              "\n",
              "\n",
              "        [[[0., 0., 0.,  ..., 0., 0., 0.],\n",
              "          [0., 0., 0.,  ..., 0., 0., 0.],\n",
              "          [0., 0., 0.,  ..., 0., 0., 0.],\n",
              "          ...,\n",
              "          [0., 0., 0.,  ..., 0., 0., 0.],\n",
              "          [0., 0., 0.,  ..., 0., 0., 0.],\n",
              "          [0., 0., 0.,  ..., 0., 0., 0.]]]])"
            ]
          },
          "metadata": {},
          "execution_count": 64
        }
      ]
    },
    {
      "cell_type": "code",
      "source": [
        "x_train.shape"
      ],
      "metadata": {
        "colab": {
          "base_uri": "https://localhost:8080/"
        },
        "id": "u0dwjvqM3RhQ",
        "outputId": "bc5e23d9-ec76-4643-d7ee-0ba25b4ec7a6"
      },
      "execution_count": 65,
      "outputs": [
        {
          "output_type": "execute_result",
          "data": {
            "text/plain": [
              "torch.Size([10, 1, 28, 28])"
            ]
          },
          "metadata": {},
          "execution_count": 65
        }
      ]
    },
    {
      "cell_type": "code",
      "source": [
        "x=x_train[0].view(1,1,28,28)"
      ],
      "metadata": {
        "id": "subpAktg8TzG"
      },
      "execution_count": 70,
      "outputs": []
    },
    {
      "cell_type": "code",
      "source": [
        "x =F.relu(conv1(x))#perform our first convolution"
      ],
      "metadata": {
        "id": "hBuzpp4O3oE-"
      },
      "execution_count": 71,
      "outputs": []
    },
    {
      "cell_type": "code",
      "source": [
        "x.shape"
      ],
      "metadata": {
        "colab": {
          "base_uri": "https://localhost:8080/"
        },
        "id": "yhWRyKte7HdR",
        "outputId": "14cbb686-ec78-4dae-98c8-291b19ea5836"
      },
      "execution_count": 72,
      "outputs": [
        {
          "output_type": "execute_result",
          "data": {
            "text/plain": [
              "torch.Size([1, 6, 26, 26])"
            ]
          },
          "metadata": {},
          "execution_count": 72
        }
      ]
    },
    {
      "cell_type": "code",
      "source": [
        "x=F.max_pool2d(x,2,2)"
      ],
      "metadata": {
        "id": "6b8zLfcP-XcK"
      },
      "execution_count": 73,
      "outputs": []
    },
    {
      "cell_type": "code",
      "source": [
        "x.shape"
      ],
      "metadata": {
        "colab": {
          "base_uri": "https://localhost:8080/"
        },
        "id": "_RkXt3f4-dNS",
        "outputId": "3d94e58c-84f9-4cec-8cbf-50992c292c3d"
      },
      "execution_count": 74,
      "outputs": [
        {
          "output_type": "execute_result",
          "data": {
            "text/plain": [
              "torch.Size([1, 6, 13, 13])"
            ]
          },
          "metadata": {},
          "execution_count": 74
        }
      ]
    },
    {
      "cell_type": "code",
      "source": [
        "#second convolution\n",
        "x=F.relu(conv2(x))"
      ],
      "metadata": {
        "id": "g96gvkRt-lDF"
      },
      "execution_count": 75,
      "outputs": []
    },
    {
      "cell_type": "code",
      "source": [
        "x.shape"
      ],
      "metadata": {
        "colab": {
          "base_uri": "https://localhost:8080/"
        },
        "id": "DUwBJi-P-29r",
        "outputId": "1a779e3d-5446-4c7b-8459-a6335047ca57"
      },
      "execution_count": 76,
      "outputs": [
        {
          "output_type": "execute_result",
          "data": {
            "text/plain": [
              "torch.Size([1, 16, 11, 11])"
            ]
          },
          "metadata": {},
          "execution_count": 76
        }
      ]
    },
    {
      "cell_type": "code",
      "source": [
        "#pooling layer\n",
        "x=F.max_pool2d(x,2,2)"
      ],
      "metadata": {
        "id": "tQqjSq8l-6_p"
      },
      "execution_count": 77,
      "outputs": []
    },
    {
      "cell_type": "code",
      "source": [
        "x.shape"
      ],
      "metadata": {
        "colab": {
          "base_uri": "https://localhost:8080/"
        },
        "id": "E1mJkU7W_IvZ",
        "outputId": "8eba4aa3-52fe-4848-f79c-182e8c767ff9"
      },
      "execution_count": 78,
      "outputs": [
        {
          "output_type": "execute_result",
          "data": {
            "text/plain": [
              "torch.Size([1, 16, 5, 5])"
            ]
          },
          "metadata": {},
          "execution_count": 78
        }
      ]
    },
    {
      "cell_type": "code",
      "source": [
        "((28-2)/2 -2)/2"
      ],
      "metadata": {
        "colab": {
          "base_uri": "https://localhost:8080/"
        },
        "id": "FGsFXnuw_J__",
        "outputId": "6a9e9a3f-baff-418d-c8bd-b7668676ab11"
      },
      "execution_count": 79,
      "outputs": [
        {
          "output_type": "execute_result",
          "data": {
            "text/plain": [
              "5.5"
            ]
          },
          "metadata": {},
          "execution_count": 79
        }
      ]
    },
    {
      "cell_type": "markdown",
      "source": [
        "\n",
        "# MODEL"
      ],
      "metadata": {
        "id": "0D0VarAL_v2d"
      }
    },
    {
      "cell_type": "code",
      "source": [],
      "metadata": {
        "id": "RfudXaAJ_mGI"
      },
      "execution_count": null,
      "outputs": []
    }
  ]
}